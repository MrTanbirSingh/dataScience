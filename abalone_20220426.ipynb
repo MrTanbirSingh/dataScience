{
 "cells": [
  {
   "cell_type": "markdown",
   "id": "37a1d85e",
   "metadata": {},
   "source": [
    "### Abalone Case Study\n",
    "\n",
    "\n",
    "**Problem Statement:<br>**\n",
    "The age of abalone is determined by cutting the shell through the cone, staining it, <br>\n",
    "and counting the number of rings through a microscope -- a boring and time-consuming task.<br>\n",
    "Other measurements, which are easier to obtain, are used to predict the age. Further information,<br>\n",
    "such as weather patterns and location (hence food availability) may be required to solve the problem.<br>\n",
    "\n",
    "**Attribute Information<br>**\n",
    "\n",
    "Given is the attribute name, attribute type, the measurement unit and a brief description.<br>\n",
    "The number of rings is the value to predict. \n",
    "<br>\n",
    "Name / Data Type / Measurement Unit / Description<br>\n",
    "-----------------------------\n",
    "Sex / nominal / -- / M, F, and I (infant)<br>\n",
    "Length / continuous / mm / Longest shell measurement<br>\n",
    "Diameter / continuous / mm / perpendicular to length<br>\n",
    "Height / continuous / mm / with meat in shell<br>\n",
    "Whole weight / continuous / grams / whole abalone<br>\n",
    "Shucked weight / continuous / grams / weight of meat<br>\n",
    "Viscera weight / continuous / grams / gut weight (after bleeding)<br>\n",
    "Shell weight / continuous / grams / after being dried<br>\n",
    "Rings / integer / -- / +1.5 gives the age in years. <br>\n",
    "<br>\n",
    "You have to predict the rings of each abalone which will lead us to the age of that abalone. <br>"
   ]
  },
  {
   "cell_type": "code",
   "execution_count": 1,
   "id": "58dd7e2a",
   "metadata": {},
   "outputs": [],
   "source": [
    "import pandas as pd\n",
    "import numpy as np\n",
    "\n",
    "\n",
    "from sklearn.preprocessing import LabelEncoder\n",
    "\n",
    "import warnings\n",
    "warnings.filterwarnings('ignore')\n",
    "\n",
    "import matplotlib.pyplot as plt"
   ]
  },
  {
   "cell_type": "code",
   "execution_count": 2,
   "id": "39e3ddd4",
   "metadata": {},
   "outputs": [],
   "source": [
    "df = pd.read_csv(r'https://raw.githubusercontent.com/dsrscientist/dataset1/master/abalone.csv')\n",
    "df.to_csv('adalone_20220427.csv')"
   ]
  },
  {
   "cell_type": "code",
   "execution_count": 3,
   "id": "d425416f",
   "metadata": {},
   "outputs": [
    {
     "data": {
      "text/html": [
       "<div>\n",
       "<style scoped>\n",
       "    .dataframe tbody tr th:only-of-type {\n",
       "        vertical-align: middle;\n",
       "    }\n",
       "\n",
       "    .dataframe tbody tr th {\n",
       "        vertical-align: top;\n",
       "    }\n",
       "\n",
       "    .dataframe thead th {\n",
       "        text-align: right;\n",
       "    }\n",
       "</style>\n",
       "<table border=\"1\" class=\"dataframe\">\n",
       "  <thead>\n",
       "    <tr style=\"text-align: right;\">\n",
       "      <th></th>\n",
       "      <th>Sex</th>\n",
       "      <th>Length</th>\n",
       "      <th>Diameter</th>\n",
       "      <th>Height</th>\n",
       "      <th>Whole weight</th>\n",
       "      <th>Shucked weight</th>\n",
       "      <th>Viscera weight</th>\n",
       "      <th>Shell weight</th>\n",
       "      <th>Rings</th>\n",
       "    </tr>\n",
       "  </thead>\n",
       "  <tbody>\n",
       "    <tr>\n",
       "      <th>0</th>\n",
       "      <td>M</td>\n",
       "      <td>0.455</td>\n",
       "      <td>0.365</td>\n",
       "      <td>0.095</td>\n",
       "      <td>0.5140</td>\n",
       "      <td>0.2245</td>\n",
       "      <td>0.1010</td>\n",
       "      <td>0.150</td>\n",
       "      <td>15</td>\n",
       "    </tr>\n",
       "    <tr>\n",
       "      <th>1</th>\n",
       "      <td>M</td>\n",
       "      <td>0.350</td>\n",
       "      <td>0.265</td>\n",
       "      <td>0.090</td>\n",
       "      <td>0.2255</td>\n",
       "      <td>0.0995</td>\n",
       "      <td>0.0485</td>\n",
       "      <td>0.070</td>\n",
       "      <td>7</td>\n",
       "    </tr>\n",
       "    <tr>\n",
       "      <th>2</th>\n",
       "      <td>F</td>\n",
       "      <td>0.530</td>\n",
       "      <td>0.420</td>\n",
       "      <td>0.135</td>\n",
       "      <td>0.6770</td>\n",
       "      <td>0.2565</td>\n",
       "      <td>0.1415</td>\n",
       "      <td>0.210</td>\n",
       "      <td>9</td>\n",
       "    </tr>\n",
       "    <tr>\n",
       "      <th>3</th>\n",
       "      <td>M</td>\n",
       "      <td>0.440</td>\n",
       "      <td>0.365</td>\n",
       "      <td>0.125</td>\n",
       "      <td>0.5160</td>\n",
       "      <td>0.2155</td>\n",
       "      <td>0.1140</td>\n",
       "      <td>0.155</td>\n",
       "      <td>10</td>\n",
       "    </tr>\n",
       "    <tr>\n",
       "      <th>4</th>\n",
       "      <td>I</td>\n",
       "      <td>0.330</td>\n",
       "      <td>0.255</td>\n",
       "      <td>0.080</td>\n",
       "      <td>0.2050</td>\n",
       "      <td>0.0895</td>\n",
       "      <td>0.0395</td>\n",
       "      <td>0.055</td>\n",
       "      <td>7</td>\n",
       "    </tr>\n",
       "  </tbody>\n",
       "</table>\n",
       "</div>"
      ],
      "text/plain": [
       "  Sex  Length  Diameter  Height  Whole weight  Shucked weight  Viscera weight  \\\n",
       "0   M   0.455     0.365   0.095        0.5140          0.2245          0.1010   \n",
       "1   M   0.350     0.265   0.090        0.2255          0.0995          0.0485   \n",
       "2   F   0.530     0.420   0.135        0.6770          0.2565          0.1415   \n",
       "3   M   0.440     0.365   0.125        0.5160          0.2155          0.1140   \n",
       "4   I   0.330     0.255   0.080        0.2050          0.0895          0.0395   \n",
       "\n",
       "   Shell weight  Rings  \n",
       "0         0.150     15  \n",
       "1         0.070      7  \n",
       "2         0.210      9  \n",
       "3         0.155     10  \n",
       "4         0.055      7  "
      ]
     },
     "execution_count": 3,
     "metadata": {},
     "output_type": "execute_result"
    }
   ],
   "source": [
    "df = pd.read_csv('adalone_20220427.csv')\n",
    "df = df.drop(['Unnamed: 0'], axis=1)\n",
    "df.head()"
   ]
  },
  {
   "cell_type": "markdown",
   "id": "f89070cd",
   "metadata": {},
   "source": [
    "This is Continuous data."
   ]
  },
  {
   "cell_type": "code",
   "execution_count": 4,
   "id": "33964d3d",
   "metadata": {},
   "outputs": [],
   "source": [
    "le = LabelEncoder()\n",
    "le_sex = le.fit_transform(df.Sex)"
   ]
  },
  {
   "cell_type": "code",
   "execution_count": 5,
   "id": "cfbefde9",
   "metadata": {},
   "outputs": [],
   "source": [
    "df['le_sex'] = le_sex"
   ]
  },
  {
   "cell_type": "code",
   "execution_count": 6,
   "id": "58e19d05",
   "metadata": {},
   "outputs": [
    {
     "data": {
      "text/html": [
       "<div>\n",
       "<style scoped>\n",
       "    .dataframe tbody tr th:only-of-type {\n",
       "        vertical-align: middle;\n",
       "    }\n",
       "\n",
       "    .dataframe tbody tr th {\n",
       "        vertical-align: top;\n",
       "    }\n",
       "\n",
       "    .dataframe thead th {\n",
       "        text-align: right;\n",
       "    }\n",
       "</style>\n",
       "<table border=\"1\" class=\"dataframe\">\n",
       "  <thead>\n",
       "    <tr style=\"text-align: right;\">\n",
       "      <th></th>\n",
       "      <th>Sex</th>\n",
       "      <th>Length</th>\n",
       "      <th>Diameter</th>\n",
       "      <th>Height</th>\n",
       "      <th>Whole weight</th>\n",
       "      <th>Shucked weight</th>\n",
       "      <th>Viscera weight</th>\n",
       "      <th>Shell weight</th>\n",
       "      <th>Rings</th>\n",
       "      <th>le_sex</th>\n",
       "    </tr>\n",
       "  </thead>\n",
       "  <tbody>\n",
       "    <tr>\n",
       "      <th>0</th>\n",
       "      <td>M</td>\n",
       "      <td>0.455</td>\n",
       "      <td>0.365</td>\n",
       "      <td>0.095</td>\n",
       "      <td>0.5140</td>\n",
       "      <td>0.2245</td>\n",
       "      <td>0.1010</td>\n",
       "      <td>0.150</td>\n",
       "      <td>15</td>\n",
       "      <td>2</td>\n",
       "    </tr>\n",
       "    <tr>\n",
       "      <th>1</th>\n",
       "      <td>M</td>\n",
       "      <td>0.350</td>\n",
       "      <td>0.265</td>\n",
       "      <td>0.090</td>\n",
       "      <td>0.2255</td>\n",
       "      <td>0.0995</td>\n",
       "      <td>0.0485</td>\n",
       "      <td>0.070</td>\n",
       "      <td>7</td>\n",
       "      <td>2</td>\n",
       "    </tr>\n",
       "    <tr>\n",
       "      <th>2</th>\n",
       "      <td>F</td>\n",
       "      <td>0.530</td>\n",
       "      <td>0.420</td>\n",
       "      <td>0.135</td>\n",
       "      <td>0.6770</td>\n",
       "      <td>0.2565</td>\n",
       "      <td>0.1415</td>\n",
       "      <td>0.210</td>\n",
       "      <td>9</td>\n",
       "      <td>0</td>\n",
       "    </tr>\n",
       "    <tr>\n",
       "      <th>3</th>\n",
       "      <td>M</td>\n",
       "      <td>0.440</td>\n",
       "      <td>0.365</td>\n",
       "      <td>0.125</td>\n",
       "      <td>0.5160</td>\n",
       "      <td>0.2155</td>\n",
       "      <td>0.1140</td>\n",
       "      <td>0.155</td>\n",
       "      <td>10</td>\n",
       "      <td>2</td>\n",
       "    </tr>\n",
       "    <tr>\n",
       "      <th>4</th>\n",
       "      <td>I</td>\n",
       "      <td>0.330</td>\n",
       "      <td>0.255</td>\n",
       "      <td>0.080</td>\n",
       "      <td>0.2050</td>\n",
       "      <td>0.0895</td>\n",
       "      <td>0.0395</td>\n",
       "      <td>0.055</td>\n",
       "      <td>7</td>\n",
       "      <td>1</td>\n",
       "    </tr>\n",
       "  </tbody>\n",
       "</table>\n",
       "</div>"
      ],
      "text/plain": [
       "  Sex  Length  Diameter  Height  Whole weight  Shucked weight  Viscera weight  \\\n",
       "0   M   0.455     0.365   0.095        0.5140          0.2245          0.1010   \n",
       "1   M   0.350     0.265   0.090        0.2255          0.0995          0.0485   \n",
       "2   F   0.530     0.420   0.135        0.6770          0.2565          0.1415   \n",
       "3   M   0.440     0.365   0.125        0.5160          0.2155          0.1140   \n",
       "4   I   0.330     0.255   0.080        0.2050          0.0895          0.0395   \n",
       "\n",
       "   Shell weight  Rings  le_sex  \n",
       "0         0.150     15       2  \n",
       "1         0.070      7       2  \n",
       "2         0.210      9       0  \n",
       "3         0.155     10       2  \n",
       "4         0.055      7       1  "
      ]
     },
     "execution_count": 6,
     "metadata": {},
     "output_type": "execute_result"
    }
   ],
   "source": [
    "df.head()"
   ]
  },
  {
   "cell_type": "code",
   "execution_count": 7,
   "id": "49862472",
   "metadata": {},
   "outputs": [
    {
     "data": {
      "text/plain": [
       "Sex                object\n",
       "Length            float64\n",
       "Diameter          float64\n",
       "Height            float64\n",
       "Whole weight      float64\n",
       "Shucked weight    float64\n",
       "Viscera weight    float64\n",
       "Shell weight      float64\n",
       "Rings               int64\n",
       "le_sex              int32\n",
       "dtype: object"
      ]
     },
     "execution_count": 7,
     "metadata": {},
     "output_type": "execute_result"
    }
   ],
   "source": [
    "df.dtypes"
   ]
  },
  {
   "cell_type": "markdown",
   "id": "f68ef645",
   "metadata": {},
   "source": [
    "Sex column is of object data type to handle this we used Label_Encoder to change it to the numerical form."
   ]
  },
  {
   "cell_type": "code",
   "execution_count": 8,
   "id": "d1d84f8f",
   "metadata": {},
   "outputs": [
    {
     "data": {
      "text/html": [
       "<div>\n",
       "<style scoped>\n",
       "    .dataframe tbody tr th:only-of-type {\n",
       "        vertical-align: middle;\n",
       "    }\n",
       "\n",
       "    .dataframe tbody tr th {\n",
       "        vertical-align: top;\n",
       "    }\n",
       "\n",
       "    .dataframe thead th {\n",
       "        text-align: right;\n",
       "    }\n",
       "</style>\n",
       "<table border=\"1\" class=\"dataframe\">\n",
       "  <thead>\n",
       "    <tr style=\"text-align: right;\">\n",
       "      <th></th>\n",
       "      <th>Sex</th>\n",
       "      <th>Length</th>\n",
       "      <th>Diameter</th>\n",
       "      <th>Height</th>\n",
       "      <th>Whole weight</th>\n",
       "      <th>Shucked weight</th>\n",
       "      <th>Viscera weight</th>\n",
       "      <th>Shell weight</th>\n",
       "      <th>Rings</th>\n",
       "      <th>le_sex</th>\n",
       "    </tr>\n",
       "  </thead>\n",
       "  <tbody>\n",
       "    <tr>\n",
       "      <th>0</th>\n",
       "      <td>M</td>\n",
       "      <td>0.455</td>\n",
       "      <td>0.365</td>\n",
       "      <td>0.095</td>\n",
       "      <td>0.5140</td>\n",
       "      <td>0.2245</td>\n",
       "      <td>0.1010</td>\n",
       "      <td>0.1500</td>\n",
       "      <td>15</td>\n",
       "      <td>2</td>\n",
       "    </tr>\n",
       "    <tr>\n",
       "      <th>1</th>\n",
       "      <td>M</td>\n",
       "      <td>0.350</td>\n",
       "      <td>0.265</td>\n",
       "      <td>0.090</td>\n",
       "      <td>0.2255</td>\n",
       "      <td>0.0995</td>\n",
       "      <td>0.0485</td>\n",
       "      <td>0.0700</td>\n",
       "      <td>7</td>\n",
       "      <td>2</td>\n",
       "    </tr>\n",
       "    <tr>\n",
       "      <th>3</th>\n",
       "      <td>M</td>\n",
       "      <td>0.440</td>\n",
       "      <td>0.365</td>\n",
       "      <td>0.125</td>\n",
       "      <td>0.5160</td>\n",
       "      <td>0.2155</td>\n",
       "      <td>0.1140</td>\n",
       "      <td>0.1550</td>\n",
       "      <td>10</td>\n",
       "      <td>2</td>\n",
       "    </tr>\n",
       "    <tr>\n",
       "      <th>8</th>\n",
       "      <td>M</td>\n",
       "      <td>0.475</td>\n",
       "      <td>0.370</td>\n",
       "      <td>0.125</td>\n",
       "      <td>0.5095</td>\n",
       "      <td>0.2165</td>\n",
       "      <td>0.1125</td>\n",
       "      <td>0.1650</td>\n",
       "      <td>9</td>\n",
       "      <td>2</td>\n",
       "    </tr>\n",
       "    <tr>\n",
       "      <th>11</th>\n",
       "      <td>M</td>\n",
       "      <td>0.430</td>\n",
       "      <td>0.350</td>\n",
       "      <td>0.110</td>\n",
       "      <td>0.4060</td>\n",
       "      <td>0.1675</td>\n",
       "      <td>0.0810</td>\n",
       "      <td>0.1350</td>\n",
       "      <td>10</td>\n",
       "      <td>2</td>\n",
       "    </tr>\n",
       "    <tr>\n",
       "      <th>...</th>\n",
       "      <td>...</td>\n",
       "      <td>...</td>\n",
       "      <td>...</td>\n",
       "      <td>...</td>\n",
       "      <td>...</td>\n",
       "      <td>...</td>\n",
       "      <td>...</td>\n",
       "      <td>...</td>\n",
       "      <td>...</td>\n",
       "      <td>...</td>\n",
       "    </tr>\n",
       "    <tr>\n",
       "      <th>4170</th>\n",
       "      <td>M</td>\n",
       "      <td>0.550</td>\n",
       "      <td>0.430</td>\n",
       "      <td>0.130</td>\n",
       "      <td>0.8395</td>\n",
       "      <td>0.3155</td>\n",
       "      <td>0.1955</td>\n",
       "      <td>0.2405</td>\n",
       "      <td>10</td>\n",
       "      <td>2</td>\n",
       "    </tr>\n",
       "    <tr>\n",
       "      <th>4171</th>\n",
       "      <td>M</td>\n",
       "      <td>0.560</td>\n",
       "      <td>0.430</td>\n",
       "      <td>0.155</td>\n",
       "      <td>0.8675</td>\n",
       "      <td>0.4000</td>\n",
       "      <td>0.1720</td>\n",
       "      <td>0.2290</td>\n",
       "      <td>8</td>\n",
       "      <td>2</td>\n",
       "    </tr>\n",
       "    <tr>\n",
       "      <th>4173</th>\n",
       "      <td>M</td>\n",
       "      <td>0.590</td>\n",
       "      <td>0.440</td>\n",
       "      <td>0.135</td>\n",
       "      <td>0.9660</td>\n",
       "      <td>0.4390</td>\n",
       "      <td>0.2145</td>\n",
       "      <td>0.2605</td>\n",
       "      <td>10</td>\n",
       "      <td>2</td>\n",
       "    </tr>\n",
       "    <tr>\n",
       "      <th>4174</th>\n",
       "      <td>M</td>\n",
       "      <td>0.600</td>\n",
       "      <td>0.475</td>\n",
       "      <td>0.205</td>\n",
       "      <td>1.1760</td>\n",
       "      <td>0.5255</td>\n",
       "      <td>0.2875</td>\n",
       "      <td>0.3080</td>\n",
       "      <td>9</td>\n",
       "      <td>2</td>\n",
       "    </tr>\n",
       "    <tr>\n",
       "      <th>4176</th>\n",
       "      <td>M</td>\n",
       "      <td>0.710</td>\n",
       "      <td>0.555</td>\n",
       "      <td>0.195</td>\n",
       "      <td>1.9485</td>\n",
       "      <td>0.9455</td>\n",
       "      <td>0.3765</td>\n",
       "      <td>0.4950</td>\n",
       "      <td>12</td>\n",
       "      <td>2</td>\n",
       "    </tr>\n",
       "  </tbody>\n",
       "</table>\n",
       "<p>1528 rows × 10 columns</p>\n",
       "</div>"
      ],
      "text/plain": [
       "     Sex  Length  Diameter  Height  Whole weight  Shucked weight  \\\n",
       "0      M   0.455     0.365   0.095        0.5140          0.2245   \n",
       "1      M   0.350     0.265   0.090        0.2255          0.0995   \n",
       "3      M   0.440     0.365   0.125        0.5160          0.2155   \n",
       "8      M   0.475     0.370   0.125        0.5095          0.2165   \n",
       "11     M   0.430     0.350   0.110        0.4060          0.1675   \n",
       "...   ..     ...       ...     ...           ...             ...   \n",
       "4170   M   0.550     0.430   0.130        0.8395          0.3155   \n",
       "4171   M   0.560     0.430   0.155        0.8675          0.4000   \n",
       "4173   M   0.590     0.440   0.135        0.9660          0.4390   \n",
       "4174   M   0.600     0.475   0.205        1.1760          0.5255   \n",
       "4176   M   0.710     0.555   0.195        1.9485          0.9455   \n",
       "\n",
       "      Viscera weight  Shell weight  Rings  le_sex  \n",
       "0             0.1010        0.1500     15       2  \n",
       "1             0.0485        0.0700      7       2  \n",
       "3             0.1140        0.1550     10       2  \n",
       "8             0.1125        0.1650      9       2  \n",
       "11            0.0810        0.1350     10       2  \n",
       "...              ...           ...    ...     ...  \n",
       "4170          0.1955        0.2405     10       2  \n",
       "4171          0.1720        0.2290      8       2  \n",
       "4173          0.2145        0.2605     10       2  \n",
       "4174          0.2875        0.3080      9       2  \n",
       "4176          0.3765        0.4950     12       2  \n",
       "\n",
       "[1528 rows x 10 columns]"
      ]
     },
     "execution_count": 8,
     "metadata": {},
     "output_type": "execute_result"
    }
   ],
   "source": [
    "df.loc[df[\"le_sex\"] == 2]"
   ]
  },
  {
   "cell_type": "markdown",
   "id": "c4ad38ae",
   "metadata": {},
   "source": [
    " "
   ]
  },
  {
   "cell_type": "markdown",
   "id": "2b0b1857",
   "metadata": {},
   "source": [
    " "
   ]
  },
  {
   "cell_type": "markdown",
   "id": "9b33cf1c",
   "metadata": {},
   "source": [
    "## Checking Null values"
   ]
  },
  {
   "cell_type": "code",
   "execution_count": 9,
   "id": "7d1ab187",
   "metadata": {},
   "outputs": [
    {
     "data": {
      "text/plain": [
       "Sex               0\n",
       "Length            0\n",
       "Diameter          0\n",
       "Height            0\n",
       "Whole weight      0\n",
       "Shucked weight    0\n",
       "Viscera weight    0\n",
       "Shell weight      0\n",
       "Rings             0\n",
       "le_sex            0\n",
       "dtype: int64"
      ]
     },
     "execution_count": 9,
     "metadata": {},
     "output_type": "execute_result"
    }
   ],
   "source": [
    "df.isnull().sum()"
   ]
  },
  {
   "cell_type": "code",
   "execution_count": null,
   "id": "004755c3",
   "metadata": {},
   "outputs": [],
   "source": []
  },
  {
   "cell_type": "code",
   "execution_count": null,
   "id": "ac973975",
   "metadata": {},
   "outputs": [],
   "source": []
  },
  {
   "cell_type": "code",
   "execution_count": null,
   "id": "b5ac1b61",
   "metadata": {},
   "outputs": [],
   "source": []
  },
  {
   "cell_type": "markdown",
   "id": "8e810a60",
   "metadata": {},
   "source": [
    "## Visualization of Data:"
   ]
  },
  {
   "cell_type": "code",
   "execution_count": 10,
   "id": "388fc8e0",
   "metadata": {},
   "outputs": [],
   "source": [
    "import seaborn as sns"
   ]
  },
  {
   "cell_type": "code",
   "execution_count": 11,
   "id": "52595989",
   "metadata": {},
   "outputs": [
    {
     "data": {
      "text/html": [
       "<div>\n",
       "<style scoped>\n",
       "    .dataframe tbody tr th:only-of-type {\n",
       "        vertical-align: middle;\n",
       "    }\n",
       "\n",
       "    .dataframe tbody tr th {\n",
       "        vertical-align: top;\n",
       "    }\n",
       "\n",
       "    .dataframe thead th {\n",
       "        text-align: right;\n",
       "    }\n",
       "</style>\n",
       "<table border=\"1\" class=\"dataframe\">\n",
       "  <thead>\n",
       "    <tr style=\"text-align: right;\">\n",
       "      <th></th>\n",
       "      <th>0</th>\n",
       "    </tr>\n",
       "    <tr>\n",
       "      <th>Sex</th>\n",
       "      <th></th>\n",
       "    </tr>\n",
       "  </thead>\n",
       "  <tbody>\n",
       "    <tr>\n",
       "      <th>F</th>\n",
       "      <td>0</td>\n",
       "    </tr>\n",
       "    <tr>\n",
       "      <th>I</th>\n",
       "      <td>1</td>\n",
       "    </tr>\n",
       "    <tr>\n",
       "      <th>M</th>\n",
       "      <td>2</td>\n",
       "    </tr>\n",
       "  </tbody>\n",
       "</table>\n",
       "</div>"
      ],
      "text/plain": [
       "     0\n",
       "Sex   \n",
       "F    0\n",
       "I    1\n",
       "M    2"
      ]
     },
     "execution_count": 11,
     "metadata": {},
     "output_type": "execute_result"
    }
   ],
   "source": [
    "# print(df[['Sex','le_sex']].loc[df['le_sex']==0].head(1))\n",
    "# df[['Sex','le_sex']].loc[df['le_sex']==1].head(1),\n",
    "# df[['Sex','le_sex']].loc[df['le_sex']==2].head(1)\n",
    "#      )\n",
    "\n",
    "df['le_sex'].groupby(df['Sex']).unique().apply(pd.Series)"
   ]
  },
  {
   "cell_type": "markdown",
   "id": "861452bb",
   "metadata": {},
   "source": [
    "Data Description:</br>\n",
    "**F = 0</br>\n",
    "I = 1 </br>\n",
    "M = 2**"
   ]
  },
  {
   "cell_type": "code",
   "execution_count": 12,
   "id": "5c38615f",
   "metadata": {},
   "outputs": [
    {
     "name": "stdout",
     "output_type": "stream",
     "text": [
      "2    1528\n",
      "1    1342\n",
      "0    1307\n",
      "Name: le_sex, dtype: int64\n"
     ]
    },
    {
     "data": {
      "image/png": "[encoded data removed]",
      "text/plain": [
       "<Figure size 432x288 with 1 Axes>"
      ]
     },
     "metadata": {
      "needs_background": "light"
     },
     "output_type": "display_data"
    }
   ],
   "source": [
    "sns.countplot(data=df, x='le_sex')\n",
    "print(df.le_sex.value_counts())"
   ]
  },
  {
   "cell_type": "markdown",
   "id": "51fbdb3d",
   "metadata": {},
   "source": [
    "**These are descrete data columns**"
   ]
  },
  {
   "cell_type": "code",
   "execution_count": 13,
   "id": "5d9c633f",
   "metadata": {},
   "outputs": [
    {
     "data": {
      "image/png": "[encoded data removed]",
      "text/plain": [
       "<Figure size 432x288 with 1 Axes>"
      ]
     },
     "metadata": {
      "needs_background": "light"
     },
     "output_type": "display_data"
    }
   ],
   "source": [
    "ax = sns.countplot(x='Rings',data=df)"
   ]
  },
  {
   "cell_type": "markdown",
   "id": "eba0f8ad",
   "metadata": {},
   "source": [
    "All the other columns are populated with continuos data"
   ]
  },
  {
   "cell_type": "code",
   "execution_count": 14,
   "id": "891c40bd",
   "metadata": {},
   "outputs": [
    {
     "data": {
      "text/plain": [
       "array(['Sex', 'Length', 'Diameter', 'Height', 'Whole weight',\n",
       "       'Shucked weight', 'Viscera weight', 'Shell weight', 'Rings',\n",
       "       'le_sex'], dtype=object)"
      ]
     },
     "execution_count": 14,
     "metadata": {},
     "output_type": "execute_result"
    }
   ],
   "source": [
    "df.columns.values"
   ]
  },
  {
   "cell_type": "code",
   "execution_count": null,
   "id": "67b66612",
   "metadata": {},
   "outputs": [],
   "source": []
  },
  {
   "cell_type": "markdown",
   "id": "b186e11a",
   "metadata": {},
   "source": [
    "## Checking the distribution of the continuous value of the columns"
   ]
  },
  {
   "cell_type": "code",
   "execution_count": 15,
   "id": "5383fafa",
   "metadata": {},
   "outputs": [],
   "source": [
    "continuous_df = df[['Length','Diameter','Height','Whole weight','Shucked weight', 'Viscera weight','Shell weight' ]]"
   ]
  },
  {
   "cell_type": "code",
   "execution_count": 16,
   "id": "66ee6c38",
   "metadata": {},
   "outputs": [
    {
     "data": {
      "text/plain": [
       "<AxesSubplot:xlabel='Length', ylabel='Density'>"
      ]
     },
     "execution_count": 16,
     "metadata": {},
     "output_type": "execute_result"
    },
    {
     "data": {
      "image/png": "[encoded data removed]",
      "text/plain": [
       "<Figure size 432x288 with 1 Axes>"
      ]
     },
     "metadata": {
      "needs_background": "light"
     },
     "output_type": "display_data"
    }
   ],
   "source": [
    "sns.distplot(df['Length'],kde=True)"
   ]
  },
  {
   "cell_type": "code",
   "execution_count": 17,
   "id": "9df02adb",
   "metadata": {},
   "outputs": [
    {
     "data": {
      "text/plain": [
       "<AxesSubplot:xlabel='Diameter', ylabel='Density'>"
      ]
     },
     "execution_count": 17,
     "metadata": {},
     "output_type": "execute_result"
    },
    {
     "data": {
      "image/png": "[encoded data removed]",
      "text/plain": [
       "<Figure size 432x288 with 1 Axes>"
      ]
     },
     "metadata": {
      "needs_background": "light"
     },
     "output_type": "display_data"
    }
   ],
   "source": [
    "sns.distplot(df['Diameter'],kde=True)"
   ]
  },
  {
   "cell_type": "code",
   "execution_count": 18,
   "id": "3dab517e",
   "metadata": {},
   "outputs": [
    {
     "data": {
      "text/plain": [
       "<AxesSubplot:xlabel='Height', ylabel='Density'>"
      ]
     },
     "execution_count": 18,
     "metadata": {},
     "output_type": "execute_result"
    },
    {
     "data": {
      "image/png": "[encoded data removed]",
      "text/plain": [
       "<Figure size 432x288 with 1 Axes>"
      ]
     },
     "metadata": {
      "needs_background": "light"
     },
     "output_type": "display_data"
    }
   ],
   "source": [
    "sns.distplot(df['Height'],kde=True)"
   ]
  },
  {
   "cell_type": "code",
   "execution_count": 19,
   "id": "46cff918",
   "metadata": {},
   "outputs": [
    {
     "data": {
      "text/plain": [
       "<AxesSubplot:xlabel='Whole weight', ylabel='Density'>"
      ]
     },
     "execution_count": 19,
     "metadata": {},
     "output_type": "execute_result"
    },
    {
     "data": {
      "image/png": "[encoded data removed]",
      "text/plain": [
       "<Figure size 432x288 with 1 Axes>"
      ]
     },
     "metadata": {
      "needs_background": "light"
     },
     "output_type": "display_data"
    }
   ],
   "source": [
    "sns.distplot(df['Whole weight'], kde=True)"
   ]
  },
  {
   "cell_type": "code",
   "execution_count": 20,
   "id": "0549362c",
   "metadata": {},
   "outputs": [
    {
     "data": {
      "text/plain": [
       "<AxesSubplot:xlabel='Shucked weight', ylabel='Density'>"
      ]
     },
     "execution_count": 20,
     "metadata": {},
     "output_type": "execute_result"
    },
    {
     "data": {
      "image/png": "[encoded data removed]",
      "text/plain": [
       "<Figure size 432x288 with 1 Axes>"
      ]
     },
     "metadata": {
      "needs_background": "light"
     },
     "output_type": "display_data"
    }
   ],
   "source": [
    "sns.distplot(df['Shucked weight'])"
   ]
  },
  {
   "cell_type": "code",
   "execution_count": 21,
   "id": "faebf398",
   "metadata": {},
   "outputs": [
    {
     "data": {
      "text/plain": [
       "<AxesSubplot:xlabel='Viscera weight', ylabel='Density'>"
      ]
     },
     "execution_count": 21,
     "metadata": {},
     "output_type": "execute_result"
    },
    {
     "data": {
      "image/png": "[encoded data removed]",
      "text/plain": [
       "<Figure size 432x288 with 1 Axes>"
      ]
     },
     "metadata": {
      "needs_background": "light"
     },
     "output_type": "display_data"
    }
   ],
   "source": [
    "sns.distplot(df['Viscera weight'])"
   ]
  },
  {
   "cell_type": "code",
   "execution_count": 22,
   "id": "78703b96",
   "metadata": {},
   "outputs": [
    {
     "data": {
      "text/plain": [
       "<AxesSubplot:xlabel='Shell weight', ylabel='Density'>"
      ]
     },
     "execution_count": 22,
     "metadata": {},
     "output_type": "execute_result"
    },
    {
     "data": {
      "image/png": "[encoded data removed]",
      "text/plain": [
       "<Figure size 432x288 with 1 Axes>"
      ]
     },
     "metadata": {
      "needs_background": "light"
     },
     "output_type": "display_data"
    }
   ],
   "source": [
    "sns.distplot(df['Shell weight'],kde=True)"
   ]
  },
  {
   "cell_type": "markdown",
   "id": "86b41fc6",
   "metadata": {},
   "source": [
    "This data is not Normalized. Building blocks are going outside the curve."
   ]
  },
  {
   "cell_type": "code",
   "execution_count": 23,
   "id": "dd17d402",
   "metadata": {},
   "outputs": [
    {
     "data": {
      "text/plain": [
       "<AxesSubplot:>"
      ]
     },
     "execution_count": 23,
     "metadata": {},
     "output_type": "execute_result"
    },
    {
     "data": {
      "image/png": "[encoded data removed]",
      "text/plain": [
       "<Figure size 1152x504 with 2 Axes>"
      ]
     },
     "metadata": {
      "needs_background": "light"
     },
     "output_type": "display_data"
    }
   ],
   "source": [
    "plt.figure(figsize = (16,7))\n",
    "sns.heatmap(df.describe(), annot=True, fmt='0.6g')"
   ]
  },
  {
   "cell_type": "markdown",
   "id": "f5512ada",
   "metadata": {},
   "source": [
    " "
   ]
  },
  {
   "cell_type": "markdown",
   "id": "a80b8b95",
   "metadata": {},
   "source": [
    " "
   ]
  },
  {
   "cell_type": "markdown",
   "id": "043d8f08",
   "metadata": {},
   "source": [
    "## Correlation "
   ]
  },
  {
   "cell_type": "code",
   "execution_count": 24,
   "id": "27966e41",
   "metadata": {},
   "outputs": [
    {
     "data": {
      "text/plain": [
       "<AxesSubplot:>"
      ]
     },
     "execution_count": 24,
     "metadata": {},
     "output_type": "execute_result"
    },
    {
     "data": {
      "image/png": "[encoded data removed]",
      "text/plain": [
       "<Figure size 1152x504 with 2 Axes>"
      ]
     },
     "metadata": {
      "needs_background": "light"
     },
     "output_type": "display_data"
    }
   ],
   "source": [
    "plt.figure(figsize = (16,7))\n",
    "sns.heatmap(df.corr(), annot=True, fmt='0.6g')"
   ]
  },
  {
   "cell_type": "markdown",
   "id": "94ee179e",
   "metadata": {},
   "source": [
    "**All the columns are showing more than 50% of correlation with the Rings(Target) column except \"Shucked weight\"**"
   ]
  },
  {
   "cell_type": "markdown",
   "id": "fd50dadf",
   "metadata": {},
   "source": [
    "**Max: 0.627** - Shell weight</br>\n",
    "**Min: 0.42**    - Shucked weight"
   ]
  },
  {
   "cell_type": "markdown",
   "id": "8d76c795",
   "metadata": {},
   "source": [
    " "
   ]
  },
  {
   "cell_type": "code",
   "execution_count": 25,
   "id": "f7302575",
   "metadata": {},
   "outputs": [
    {
     "data": {
      "text/html": [
       "<div>\n",
       "<style scoped>\n",
       "    .dataframe tbody tr th:only-of-type {\n",
       "        vertical-align: middle;\n",
       "    }\n",
       "\n",
       "    .dataframe tbody tr th {\n",
       "        vertical-align: top;\n",
       "    }\n",
       "\n",
       "    .dataframe thead th {\n",
       "        text-align: right;\n",
       "    }\n",
       "</style>\n",
       "<table border=\"1\" class=\"dataframe\">\n",
       "  <thead>\n",
       "    <tr style=\"text-align: right;\">\n",
       "      <th></th>\n",
       "      <th>Length</th>\n",
       "      <th>Diameter</th>\n",
       "      <th>Height</th>\n",
       "      <th>Whole weight</th>\n",
       "      <th>Shucked weight</th>\n",
       "      <th>Viscera weight</th>\n",
       "      <th>Shell weight</th>\n",
       "      <th>Rings</th>\n",
       "      <th>le_sex</th>\n",
       "    </tr>\n",
       "  </thead>\n",
       "  <tbody>\n",
       "    <tr>\n",
       "      <th>Length</th>\n",
       "      <td>1.000000</td>\n",
       "      <td>0.986812</td>\n",
       "      <td>0.827554</td>\n",
       "      <td>0.925261</td>\n",
       "      <td>0.897914</td>\n",
       "      <td>0.903018</td>\n",
       "      <td>0.897706</td>\n",
       "      <td>0.556720</td>\n",
       "      <td>-0.036066</td>\n",
       "    </tr>\n",
       "    <tr>\n",
       "      <th>Diameter</th>\n",
       "      <td>0.986812</td>\n",
       "      <td>1.000000</td>\n",
       "      <td>0.833684</td>\n",
       "      <td>0.925452</td>\n",
       "      <td>0.893162</td>\n",
       "      <td>0.899724</td>\n",
       "      <td>0.905330</td>\n",
       "      <td>0.574660</td>\n",
       "      <td>-0.038874</td>\n",
       "    </tr>\n",
       "    <tr>\n",
       "      <th>Height</th>\n",
       "      <td>0.827554</td>\n",
       "      <td>0.833684</td>\n",
       "      <td>1.000000</td>\n",
       "      <td>0.819221</td>\n",
       "      <td>0.774972</td>\n",
       "      <td>0.798319</td>\n",
       "      <td>0.817338</td>\n",
       "      <td>0.557467</td>\n",
       "      <td>-0.042077</td>\n",
       "    </tr>\n",
       "    <tr>\n",
       "      <th>Whole weight</th>\n",
       "      <td>0.925261</td>\n",
       "      <td>0.925452</td>\n",
       "      <td>0.819221</td>\n",
       "      <td>1.000000</td>\n",
       "      <td>0.969405</td>\n",
       "      <td>0.966375</td>\n",
       "      <td>0.955355</td>\n",
       "      <td>0.540390</td>\n",
       "      <td>-0.021391</td>\n",
       "    </tr>\n",
       "    <tr>\n",
       "      <th>Shucked weight</th>\n",
       "      <td>0.897914</td>\n",
       "      <td>0.893162</td>\n",
       "      <td>0.774972</td>\n",
       "      <td>0.969405</td>\n",
       "      <td>1.000000</td>\n",
       "      <td>0.931961</td>\n",
       "      <td>0.882617</td>\n",
       "      <td>0.420884</td>\n",
       "      <td>-0.001373</td>\n",
       "    </tr>\n",
       "    <tr>\n",
       "      <th>Viscera weight</th>\n",
       "      <td>0.903018</td>\n",
       "      <td>0.899724</td>\n",
       "      <td>0.798319</td>\n",
       "      <td>0.966375</td>\n",
       "      <td>0.931961</td>\n",
       "      <td>1.000000</td>\n",
       "      <td>0.907656</td>\n",
       "      <td>0.503819</td>\n",
       "      <td>-0.032067</td>\n",
       "    </tr>\n",
       "    <tr>\n",
       "      <th>Shell weight</th>\n",
       "      <td>0.897706</td>\n",
       "      <td>0.905330</td>\n",
       "      <td>0.817338</td>\n",
       "      <td>0.955355</td>\n",
       "      <td>0.882617</td>\n",
       "      <td>0.907656</td>\n",
       "      <td>1.000000</td>\n",
       "      <td>0.627574</td>\n",
       "      <td>-0.034854</td>\n",
       "    </tr>\n",
       "    <tr>\n",
       "      <th>Rings</th>\n",
       "      <td>0.556720</td>\n",
       "      <td>0.574660</td>\n",
       "      <td>0.557467</td>\n",
       "      <td>0.540390</td>\n",
       "      <td>0.420884</td>\n",
       "      <td>0.503819</td>\n",
       "      <td>0.627574</td>\n",
       "      <td>1.000000</td>\n",
       "      <td>-0.034627</td>\n",
       "    </tr>\n",
       "    <tr>\n",
       "      <th>le_sex</th>\n",
       "      <td>-0.036066</td>\n",
       "      <td>-0.038874</td>\n",
       "      <td>-0.042077</td>\n",
       "      <td>-0.021391</td>\n",
       "      <td>-0.001373</td>\n",
       "      <td>-0.032067</td>\n",
       "      <td>-0.034854</td>\n",
       "      <td>-0.034627</td>\n",
       "      <td>1.000000</td>\n",
       "    </tr>\n",
       "  </tbody>\n",
       "</table>\n",
       "</div>"
      ],
      "text/plain": [
       "                  Length  Diameter    Height  Whole weight  Shucked weight  \\\n",
       "Length          1.000000  0.986812  0.827554      0.925261        0.897914   \n",
       "Diameter        0.986812  1.000000  0.833684      0.925452        0.893162   \n",
       "Height          0.827554  0.833684  1.000000      0.819221        0.774972   \n",
       "Whole weight    0.925261  0.925452  0.819221      1.000000        0.969405   \n",
       "Shucked weight  0.897914  0.893162  0.774972      0.969405        1.000000   \n",
       "Viscera weight  0.903018  0.899724  0.798319      0.966375        0.931961   \n",
       "Shell weight    0.897706  0.905330  0.817338      0.955355        0.882617   \n",
       "Rings           0.556720  0.574660  0.557467      0.540390        0.420884   \n",
       "le_sex         -0.036066 -0.038874 -0.042077     -0.021391       -0.001373   \n",
       "\n",
       "                Viscera weight  Shell weight     Rings    le_sex  \n",
       "Length                0.903018      0.897706  0.556720 -0.036066  \n",
       "Diameter              0.899724      0.905330  0.574660 -0.038874  \n",
       "Height                0.798319      0.817338  0.557467 -0.042077  \n",
       "Whole weight          0.966375      0.955355  0.540390 -0.021391  \n",
       "Shucked weight        0.931961      0.882617  0.420884 -0.001373  \n",
       "Viscera weight        1.000000      0.907656  0.503819 -0.032067  \n",
       "Shell weight          0.907656      1.000000  0.627574 -0.034854  \n",
       "Rings                 0.503819      0.627574  1.000000 -0.034627  \n",
       "le_sex               -0.032067     -0.034854 -0.034627  1.000000  "
      ]
     },
     "execution_count": 25,
     "metadata": {},
     "output_type": "execute_result"
    }
   ],
   "source": [
    "df.corr()"
   ]
  },
  {
   "cell_type": "code",
   "execution_count": 26,
   "id": "39af5c54",
   "metadata": {},
   "outputs": [
    {
     "data": {
      "text/plain": [
       "<AxesSubplot:>"
      ]
     },
     "execution_count": 26,
     "metadata": {},
     "output_type": "execute_result"
    },
    {
     "data": {
      "image/png": "[encoded data removed]",
      "text/plain": [
       "<Figure size 1584x504 with 1 Axes>"
      ]
     },
     "metadata": {
      "needs_background": "light"
     },
     "output_type": "display_data"
    }
   ],
   "source": [
    "plt.figure(figsize=(22,7))\n",
    "df.corr()['Rings'].sort_values(ascending=True).plot(kind='bar')"
   ]
  },
  {
   "cell_type": "markdown",
   "id": "fe01400e",
   "metadata": {},
   "source": [
    " "
   ]
  },
  {
   "cell_type": "markdown",
   "id": "a2adc37e",
   "metadata": {},
   "source": [
    " "
   ]
  },
  {
   "cell_type": "markdown",
   "id": "e67b0165",
   "metadata": {},
   "source": [
    "## Checking Skewness"
   ]
  },
  {
   "cell_type": "code",
   "execution_count": 27,
   "id": "b6d68128",
   "metadata": {},
   "outputs": [
    {
     "data": {
      "text/plain": [
       "Length           -0.639873\n",
       "Diameter         -0.609198\n",
       "Height            3.128817\n",
       "Whole weight      0.530959\n",
       "Shucked weight    0.719098\n",
       "Viscera weight    0.591852\n",
       "Shell weight      0.620927\n",
       "Rings             1.114102\n",
       "le_sex           -0.098155\n",
       "dtype: float64"
      ]
     },
     "execution_count": 27,
     "metadata": {},
     "output_type": "execute_result"
    }
   ],
   "source": [
    "df.skew()"
   ]
  },
  {
   "cell_type": "markdown",
   "id": "ca631436",
   "metadata": {},
   "source": [
    "Outcome of skewness: skewness threshold taken is +/- 0.65</br>\n",
    "columns with skewness:</br>\n",
    "**Height</br>\n",
    "Shucked weight</br>**"
   ]
  },
  {
   "cell_type": "markdown",
   "id": "0fd97c05",
   "metadata": {},
   "source": [
    " "
   ]
  },
  {
   "cell_type": "markdown",
   "id": "bf355e9d",
   "metadata": {},
   "source": [
    " "
   ]
  },
  {
   "cell_type": "markdown",
   "id": "879c5147",
   "metadata": {},
   "source": [
    "### Checking Outliers"
   ]
  },
  {
   "cell_type": "code",
   "execution_count": 28,
   "id": "19d6a766",
   "metadata": {},
   "outputs": [
    {
     "data": {
      "text/plain": [
       "<AxesSubplot:xlabel='Diameter'>"
      ]
     },
     "execution_count": 28,
     "metadata": {},
     "output_type": "execute_result"
    },
    {
     "data": {
      "image/png": "[encoded data removed]",
      "text/plain": [
       "<Figure size 1008x36 with 1 Axes>"
      ]
     },
     "metadata": {
      "needs_background": "light"
     },
     "output_type": "display_data"
    },
    {
     "data": {
      "image/png": "[encoded data removed]",
      "text/plain": [
       "<Figure size 1008x36 with 1 Axes>"
      ]
     },
     "metadata": {
      "needs_background": "light"
     },
     "output_type": "display_data"
    },
    {
     "data": {
      "image/png": "[encoded data removed]",
      "text/plain": [
       "<Figure size 1008x36 with 1 Axes>"
      ]
     },
     "metadata": {
      "needs_background": "light"
     },
     "output_type": "display_data"
    },
    {
     "data": {
      "image/png": "[encoded data removed]",
      "text/plain": [
       "<Figure size 1008x36 with 1 Axes>"
      ]
     },
     "metadata": {
      "needs_background": "light"
     },
     "output_type": "display_data"
    },
    {
     "data": {
      "image/png": "[encoded data removed]",
      "text/plain": [
       "<Figure size 1008x36 with 1 Axes>"
      ]
     },
     "metadata": {
      "needs_background": "light"
     },
     "output_type": "display_data"
    },
    {
     "data": {
      "image/png": "[encoded data removed]",
      "text/plain": [
       "<Figure size 1008x36 with 1 Axes>"
      ]
     },
     "metadata": {
      "needs_background": "light"
     },
     "output_type": "display_data"
    }
   ],
   "source": [
    "plt.figure(figsize=(14,0.5))\n",
    "sns.boxplot(df['Height'])\n",
    "\n",
    "plt.figure(figsize=(14,0.5))\n",
    "sns.boxplot(df['Shucked weight'])\n",
    "\n",
    "plt.figure(figsize=(14,0.5))\n",
    "sns.boxplot(df['Shell weight'])\n",
    "\n",
    "plt.figure(figsize=(14,0.5))\n",
    "sns.boxplot(df['Viscera weight'])\n",
    "\n",
    "plt.figure(figsize=(14,0.5))\n",
    "sns.boxplot(df['Whole weight'])\n",
    "\n",
    "plt.figure(figsize=(14,0.5))\n",
    "sns.boxplot(df['Diameter'])"
   ]
  },
  {
   "cell_type": "markdown",
   "id": "69406080",
   "metadata": {},
   "source": [
    "## Removing Outliers"
   ]
  },
  {
   "cell_type": "markdown",
   "id": "d3abef81",
   "metadata": {},
   "source": [
    "Z-score Techniques"
   ]
  },
  {
   "cell_type": "code",
   "execution_count": 29,
   "id": "ba79e614",
   "metadata": {},
   "outputs": [],
   "source": [
    "df = df.drop(['Sex'],axis=1)"
   ]
  },
  {
   "cell_type": "code",
   "execution_count": 30,
   "id": "5101b31e",
   "metadata": {},
   "outputs": [
    {
     "data": {
      "text/plain": [
       "(4177, 9)"
      ]
     },
     "execution_count": 30,
     "metadata": {},
     "output_type": "execute_result"
    }
   ],
   "source": [
    "from scipy.stats import zscore\n",
    "import numpy as np\n",
    "\n",
    "z = np.abs(zscore(df))\n",
    "z.shape"
   ]
  },
  {
   "cell_type": "code",
   "execution_count": 31,
   "id": "551e5f89",
   "metadata": {},
   "outputs": [
    {
     "name": "stdout",
     "output_type": "stream",
     "text": [
      "(array([   6,   72,   81,   83,  129,  163,  164,  165,  165,  165,  166,\n",
      "        166,  167,  168,  170,  181,  232,  236,  236,  236,  237,  237,\n",
      "        238,  238,  239,  270,  275,  277,  278,  294,  310,  313,  314,\n",
      "        334,  351,  355,  358,  358,  362,  375,  416,  417,  428,  431,\n",
      "        433,  469,  478,  480,  501,  526,  526,  530,  572,  628,  673,\n",
      "        674,  675,  678,  694,  696,  696,  719,  719,  720,  720,  744,\n",
      "        754,  756,  811,  891,  891,  891, 1048, 1051, 1051, 1052, 1193,\n",
      "       1197, 1199, 1202, 1204, 1206, 1206, 1207, 1207, 1207, 1207, 1209,\n",
      "       1209, 1257, 1417, 1417, 1418, 1422, 1426, 1427, 1427, 1427, 1428,\n",
      "       1429, 1429, 1528, 1754, 1756, 1757, 1759, 1761, 1762, 1762, 1762,\n",
      "       1763, 1763, 1763, 1821, 1982, 1986, 1987, 1987, 2051, 2090, 2108,\n",
      "       2108, 2114, 2114, 2157, 2161, 2176, 2180, 2199, 2201, 2208, 2209,\n",
      "       2274, 2275, 2305, 2334, 2334, 2334, 2335, 2344, 2358, 2368, 2381,\n",
      "       2436, 2459, 2471, 2544, 2623, 2624, 2624, 2624, 2625, 2709, 2710,\n",
      "       2710, 2810, 2810, 2811, 2811, 2811, 2862, 2863, 2863, 2863, 3007,\n",
      "       3008, 3140, 3148, 3149, 3149, 3151, 3151, 3188, 3193, 3280, 3359,\n",
      "       3427, 3427, 3427, 3599, 3599, 3628, 3713, 3715, 3715, 3715, 3715,\n",
      "       3800, 3837, 3899, 3899, 3902, 3924, 3930, 3944, 3961, 3962, 3996,\n",
      "       4145, 4148], dtype=int64), array([7, 7, 6, 7, 6, 6, 6, 3, 4, 6, 6, 7, 7, 6, 5, 7, 7, 0, 1, 2, 0, 1,\n",
      "       0, 1, 0, 7, 7, 6, 7, 7, 7, 7, 7, 6, 7, 7, 3, 6, 7, 7, 7, 7, 7, 7,\n",
      "       7, 7, 7, 7, 7, 0, 1, 7, 7, 7, 7, 7, 7, 7, 1, 0, 1, 0, 1, 0, 1, 7,\n",
      "       7, 7, 7, 3, 4, 6, 5, 3, 4, 3, 4, 4, 4, 4, 5, 4, 5, 3, 4, 5, 6, 3,\n",
      "       4, 2, 2, 4, 4, 5, 4, 3, 4, 5, 6, 0, 1, 4, 4, 4, 5, 5, 4, 3, 4, 5,\n",
      "       3, 4, 5, 4, 4, 0, 0, 1, 2, 6, 6, 7, 0, 1, 6, 6, 7, 7, 7, 7, 6, 7,\n",
      "       6, 7, 7, 3, 5, 7, 7, 7, 7, 6, 0, 7, 7, 7, 4, 3, 3, 4, 5, 4, 5, 4,\n",
      "       5, 4, 5, 3, 4, 5, 4, 3, 4, 5, 4, 6, 7, 6, 6, 7, 6, 7, 6, 7, 7, 7,\n",
      "       3, 4, 5, 3, 4, 5, 4, 3, 4, 5, 6, 3, 1, 0, 1, 0, 7, 7, 7, 4, 4, 2,\n",
      "       6, 5], dtype=int64))\n"
     ]
    }
   ],
   "source": [
    "threshold = 3\n",
    "print(np.where(z>3))"
   ]
  },
  {
   "cell_type": "code",
   "execution_count": 32,
   "id": "57c10262",
   "metadata": {},
   "outputs": [],
   "source": [
    "df_new = df[(z<3).all(axis=1)]"
   ]
  },
  {
   "cell_type": "code",
   "execution_count": 33,
   "id": "2cd9f5b0",
   "metadata": {},
   "outputs": [
    {
     "data": {
      "text/plain": [
       "(4027, 9)"
      ]
     },
     "execution_count": 33,
     "metadata": {},
     "output_type": "execute_result"
    }
   ],
   "source": [
    "df_new.shape"
   ]
  },
  {
   "cell_type": "code",
   "execution_count": 34,
   "id": "73f1c025",
   "metadata": {},
   "outputs": [
    {
     "data": {
      "text/plain": [
       "(4177, 9)"
      ]
     },
     "execution_count": 34,
     "metadata": {},
     "output_type": "execute_result"
    }
   ],
   "source": [
    "z.shape"
   ]
  },
  {
   "cell_type": "code",
   "execution_count": null,
   "id": "049531c4",
   "metadata": {},
   "outputs": [],
   "source": []
  },
  {
   "cell_type": "code",
   "execution_count": 35,
   "id": "164be432",
   "metadata": {},
   "outputs": [
    {
     "data": {
      "text/plain": [
       "3.5910940866650707"
      ]
     },
     "execution_count": 35,
     "metadata": {},
     "output_type": "execute_result"
    }
   ],
   "source": [
    "(4177-4027)/4177*100"
   ]
  },
  {
   "cell_type": "code",
   "execution_count": 36,
   "id": "fdbb53c2",
   "metadata": {},
   "outputs": [],
   "source": [
    "df_new['rings'] = df_new.Rings"
   ]
  },
  {
   "cell_type": "code",
   "execution_count": 37,
   "id": "a13a7375",
   "metadata": {},
   "outputs": [],
   "source": [
    "df_new = df_new.drop(['Rings'],axis=1)"
   ]
  },
  {
   "cell_type": "code",
   "execution_count": 60,
   "id": "caef89eb",
   "metadata": {},
   "outputs": [
    {
     "data": {
      "text/plain": [
       "(4027, 8)"
      ]
     },
     "execution_count": 60,
     "metadata": {},
     "output_type": "execute_result"
    }
   ],
   "source": [
    "x = df_new.iloc[:,:-1]\n",
    "y = df_new.iloc[:,-1]\n",
    "x.shape"
   ]
  },
  {
   "cell_type": "code",
   "execution_count": 61,
   "id": "bbd7bbe1",
   "metadata": {},
   "outputs": [
    {
     "data": {
      "text/plain": [
       "(4027,)"
      ]
     },
     "execution_count": 61,
     "metadata": {},
     "output_type": "execute_result"
    }
   ],
   "source": [
    "y.shape"
   ]
  },
  {
   "cell_type": "code",
   "execution_count": 62,
   "id": "7f0899b7",
   "metadata": {},
   "outputs": [],
   "source": [
    "from sklearn.model_selection import train_test_split\n",
    "from sklearn.linear_model import LinearRegression"
   ]
  },
  {
   "cell_type": "code",
   "execution_count": 63,
   "id": "a1fea9db",
   "metadata": {},
   "outputs": [],
   "source": [
    "lr = LinearRegression()"
   ]
  },
  {
   "cell_type": "code",
   "execution_count": 64,
   "id": "0f69bc96",
   "metadata": {},
   "outputs": [],
   "source": [
    "x_train, x_test, y_train, y_test = train_test_split(x, y, test_size=0.22, random_state=42)"
   ]
  },
  {
   "cell_type": "code",
   "execution_count": 65,
   "id": "f89d6580",
   "metadata": {},
   "outputs": [
    {
     "data": {
      "text/plain": [
       "(3141, 8)"
      ]
     },
     "execution_count": 65,
     "metadata": {},
     "output_type": "execute_result"
    }
   ],
   "source": [
    "x_train.shape"
   ]
  },
  {
   "cell_type": "code",
   "execution_count": 66,
   "id": "ecb4035c",
   "metadata": {},
   "outputs": [
    {
     "data": {
      "text/plain": [
       "(886, 8)"
      ]
     },
     "execution_count": 66,
     "metadata": {},
     "output_type": "execute_result"
    }
   ],
   "source": [
    "x_test.shape"
   ]
  },
  {
   "cell_type": "code",
   "execution_count": 67,
   "id": "09bf9ae1",
   "metadata": {},
   "outputs": [
    {
     "data": {
      "text/plain": [
       "(3141,)"
      ]
     },
     "execution_count": 67,
     "metadata": {},
     "output_type": "execute_result"
    }
   ],
   "source": [
    "y_train.shape"
   ]
  },
  {
   "cell_type": "code",
   "execution_count": 68,
   "id": "7b7f88dd",
   "metadata": {},
   "outputs": [
    {
     "data": {
      "text/plain": [
       "(886,)"
      ]
     },
     "execution_count": 68,
     "metadata": {},
     "output_type": "execute_result"
    }
   ],
   "source": [
    "y_test.shape"
   ]
  },
  {
   "cell_type": "code",
   "execution_count": 69,
   "id": "55aa60e9",
   "metadata": {},
   "outputs": [
    {
     "data": {
      "text/plain": [
       "(4027, 8)"
      ]
     },
     "execution_count": 69,
     "metadata": {},
     "output_type": "execute_result"
    }
   ],
   "source": [
    "x.shape"
   ]
  },
  {
   "cell_type": "code",
   "execution_count": 70,
   "id": "62c0e2ad",
   "metadata": {},
   "outputs": [
    {
     "data": {
      "text/plain": [
       "(4027,)"
      ]
     },
     "execution_count": 70,
     "metadata": {},
     "output_type": "execute_result"
    }
   ],
   "source": [
    "y.shape"
   ]
  },
  {
   "cell_type": "code",
   "execution_count": 71,
   "id": "d0bfa4a4",
   "metadata": {},
   "outputs": [
    {
     "data": {
      "text/plain": [
       "LinearRegression()"
      ]
     },
     "execution_count": 71,
     "metadata": {},
     "output_type": "execute_result"
    }
   ],
   "source": [
    "lr.fit(x_train, y_train)"
   ]
  },
  {
   "cell_type": "code",
   "execution_count": 72,
   "id": "6c337a78",
   "metadata": {},
   "outputs": [
    {
     "data": {
      "text/plain": [
       "0.5188024020590367"
      ]
     },
     "execution_count": 72,
     "metadata": {},
     "output_type": "execute_result"
    }
   ],
   "source": [
    "lr.score(x_train, y_train)"
   ]
  },
  {
   "cell_type": "markdown",
   "id": "a33659ff",
   "metadata": {},
   "source": [
    "## Transforming data to remove skewness"
   ]
  },
  {
   "cell_type": "code",
   "execution_count": 78,
   "id": "fe4bf561",
   "metadata": {},
   "outputs": [
    {
     "data": {
      "text/html": [
       "<div>\n",
       "<style scoped>\n",
       "    .dataframe tbody tr th:only-of-type {\n",
       "        vertical-align: middle;\n",
       "    }\n",
       "\n",
       "    .dataframe tbody tr th {\n",
       "        vertical-align: top;\n",
       "    }\n",
       "\n",
       "    .dataframe thead th {\n",
       "        text-align: right;\n",
       "    }\n",
       "</style>\n",
       "<table border=\"1\" class=\"dataframe\">\n",
       "  <thead>\n",
       "    <tr style=\"text-align: right;\">\n",
       "      <th></th>\n",
       "      <th>Length</th>\n",
       "      <th>Diameter</th>\n",
       "      <th>Height</th>\n",
       "      <th>Whole weight</th>\n",
       "      <th>Shucked weight</th>\n",
       "      <th>Viscera weight</th>\n",
       "      <th>Shell weight</th>\n",
       "      <th>le_sex</th>\n",
       "    </tr>\n",
       "  </thead>\n",
       "  <tbody>\n",
       "    <tr>\n",
       "      <th>0</th>\n",
       "      <td>-0.697176</td>\n",
       "      <td>-0.560880</td>\n",
       "      <td>-1.155661</td>\n",
       "      <td>-0.581627</td>\n",
       "      <td>-0.539362</td>\n",
       "      <td>-0.685274</td>\n",
       "      <td>-0.587407</td>\n",
       "      <td>1.178366</td>\n",
       "    </tr>\n",
       "    <tr>\n",
       "      <th>1</th>\n",
       "      <td>-1.387955</td>\n",
       "      <td>-1.377993</td>\n",
       "      <td>-1.274925</td>\n",
       "      <td>-1.345491</td>\n",
       "      <td>-1.313039</td>\n",
       "      <td>-1.337807</td>\n",
       "      <td>-1.331312</td>\n",
       "      <td>1.178366</td>\n",
       "    </tr>\n",
       "    <tr>\n",
       "      <th>2</th>\n",
       "      <td>-0.072517</td>\n",
       "      <td>0.010879</td>\n",
       "      <td>-0.136329</td>\n",
       "      <td>-0.194601</td>\n",
       "      <td>-0.360774</td>\n",
       "      <td>-0.234698</td>\n",
       "      <td>-0.081976</td>\n",
       "      <td>-1.262467</td>\n",
       "    </tr>\n",
       "    <tr>\n",
       "      <th>3</th>\n",
       "      <td>-0.807853</td>\n",
       "      <td>-0.560880</td>\n",
       "      <td>-0.402577</td>\n",
       "      <td>-0.576708</td>\n",
       "      <td>-0.590907</td>\n",
       "      <td>-0.535957</td>\n",
       "      <td>-0.543684</td>\n",
       "      <td>1.178366</td>\n",
       "    </tr>\n",
       "    <tr>\n",
       "      <th>4</th>\n",
       "      <td>-1.499241</td>\n",
       "      <td>-1.446620</td>\n",
       "      <td>-1.508370</td>\n",
       "      <td>-1.404502</td>\n",
       "      <td>-1.380827</td>\n",
       "      <td>-1.458285</td>\n",
       "      <td>-1.480869</td>\n",
       "      <td>-0.105052</td>\n",
       "    </tr>\n",
       "    <tr>\n",
       "      <th>...</th>\n",
       "      <td>...</td>\n",
       "      <td>...</td>\n",
       "      <td>...</td>\n",
       "      <td>...</td>\n",
       "      <td>...</td>\n",
       "      <td>...</td>\n",
       "      <td>...</td>\n",
       "      <td>...</td>\n",
       "    </tr>\n",
       "    <tr>\n",
       "      <th>4022</th>\n",
       "      <td>0.266163</td>\n",
       "      <td>0.369326</td>\n",
       "      <td>0.712966</td>\n",
       "      <td>0.268354</td>\n",
       "      <td>0.219285</td>\n",
       "      <td>0.693630</td>\n",
       "      <td>0.225595</td>\n",
       "      <td>-1.262467</td>\n",
       "    </tr>\n",
       "    <tr>\n",
       "      <th>4023</th>\n",
       "      <td>0.528527</td>\n",
       "      <td>0.245938</td>\n",
       "      <td>-0.136329</td>\n",
       "      <td>0.433546</td>\n",
       "      <td>0.536461</td>\n",
       "      <td>0.478695</td>\n",
       "      <td>0.313377</td>\n",
       "      <td>1.178366</td>\n",
       "    </tr>\n",
       "    <tr>\n",
       "      <th>4024</th>\n",
       "      <td>0.638362</td>\n",
       "      <td>0.695288</td>\n",
       "      <td>1.964271</td>\n",
       "      <td>0.851443</td>\n",
       "      <td>0.902173</td>\n",
       "      <td>1.088242</td>\n",
       "      <td>0.662751</td>\n",
       "      <td>1.178366</td>\n",
       "    </tr>\n",
       "    <tr>\n",
       "      <th>4025</th>\n",
       "      <td>0.925474</td>\n",
       "      <td>0.832823</td>\n",
       "      <td>0.278748</td>\n",
       "      <td>0.692744</td>\n",
       "      <td>0.924337</td>\n",
       "      <td>0.877472</td>\n",
       "      <td>0.576435</td>\n",
       "      <td>-1.262467</td>\n",
       "    </tr>\n",
       "    <tr>\n",
       "      <th>4026</th>\n",
       "      <td>2.042743</td>\n",
       "      <td>1.916617</td>\n",
       "      <td>1.638602</td>\n",
       "      <td>2.178555</td>\n",
       "      <td>2.306224</td>\n",
       "      <td>1.721267</td>\n",
       "      <td>1.860603</td>\n",
       "      <td>1.178366</td>\n",
       "    </tr>\n",
       "  </tbody>\n",
       "</table>\n",
       "<p>4027 rows × 8 columns</p>\n",
       "</div>"
      ],
      "text/plain": [
       "        Length  Diameter    Height  Whole weight  Shucked weight  \\\n",
       "0    -0.697176 -0.560880 -1.155661     -0.581627       -0.539362   \n",
       "1    -1.387955 -1.377993 -1.274925     -1.345491       -1.313039   \n",
       "2    -0.072517  0.010879 -0.136329     -0.194601       -0.360774   \n",
       "3    -0.807853 -0.560880 -0.402577     -0.576708       -0.590907   \n",
       "4    -1.499241 -1.446620 -1.508370     -1.404502       -1.380827   \n",
       "...        ...       ...       ...           ...             ...   \n",
       "4022  0.266163  0.369326  0.712966      0.268354        0.219285   \n",
       "4023  0.528527  0.245938 -0.136329      0.433546        0.536461   \n",
       "4024  0.638362  0.695288  1.964271      0.851443        0.902173   \n",
       "4025  0.925474  0.832823  0.278748      0.692744        0.924337   \n",
       "4026  2.042743  1.916617  1.638602      2.178555        2.306224   \n",
       "\n",
       "      Viscera weight  Shell weight    le_sex  \n",
       "0          -0.685274     -0.587407  1.178366  \n",
       "1          -1.337807     -1.331312  1.178366  \n",
       "2          -0.234698     -0.081976 -1.262467  \n",
       "3          -0.535957     -0.543684  1.178366  \n",
       "4          -1.458285     -1.480869 -0.105052  \n",
       "...              ...           ...       ...  \n",
       "4022        0.693630      0.225595 -1.262467  \n",
       "4023        0.478695      0.313377  1.178366  \n",
       "4024        1.088242      0.662751  1.178366  \n",
       "4025        0.877472      0.576435 -1.262467  \n",
       "4026        1.721267      1.860603  1.178366  \n",
       "\n",
       "[4027 rows x 8 columns]"
      ]
     },
     "execution_count": 78,
     "metadata": {},
     "output_type": "execute_result"
    }
   ],
   "source": [
    "from sklearn.preprocessing import power_transform\n",
    "x_new = power_transform(x)\n",
    "\n",
    "x = pd.DataFrame(data=x_new , columns=x.columns)\n",
    "x"
   ]
  },
  {
   "cell_type": "code",
   "execution_count": 80,
   "id": "c0103927",
   "metadata": {},
   "outputs": [
    {
     "data": {
      "text/plain": [
       "le_sex           -0.032885\n",
       "Length            0.013414\n",
       "Shucked weight    0.014398\n",
       "Diameter          0.014445\n",
       "Viscera weight    0.016499\n",
       "Whole weight      0.016944\n",
       "Height            0.020138\n",
       "Shell weight      0.022629\n",
       "dtype: float64"
      ]
     },
     "execution_count": 80,
     "metadata": {},
     "output_type": "execute_result"
    }
   ],
   "source": [
    "x.skew().sort_values()"
   ]
  },
  {
   "cell_type": "code",
   "execution_count": 112,
   "id": "05b4c28d",
   "metadata": {},
   "outputs": [
    {
     "ename": "ValueError",
     "evalue": "Expected 2D array, got 1D array instead:\narray=[14 10 12 ...  7  8 10].\nReshape your data either using array.reshape(-1, 1) if your data has a single feature or array.reshape(1, -1) if it contains a single sample.",
     "output_type": "error",
     "traceback": [
      "\u001b[1;31m---------------------------------------------------------------------------\u001b[0m",
      "\u001b[1;31mValueError\u001b[0m                                Traceback (most recent call last)",
      "\u001b[1;32m~\\AppData\\Local\\Temp/ipykernel_22636/796852065.py\u001b[0m in \u001b[0;36m<module>\u001b[1;34m\u001b[0m\n\u001b[0;32m      4\u001b[0m     \u001b[0mpred_train\u001b[0m \u001b[1;33m=\u001b[0m \u001b[0mlr\u001b[0m\u001b[1;33m.\u001b[0m\u001b[0mpredict\u001b[0m\u001b[1;33m(\u001b[0m\u001b[0mx_train\u001b[0m\u001b[1;33m)\u001b[0m\u001b[1;33m\u001b[0m\u001b[1;33m\u001b[0m\u001b[0m\n\u001b[0;32m      5\u001b[0m     \u001b[0mpred_test\u001b[0m \u001b[1;33m=\u001b[0m \u001b[0mlr\u001b[0m\u001b[1;33m.\u001b[0m\u001b[0mpredict\u001b[0m\u001b[1;33m(\u001b[0m\u001b[0mx_test\u001b[0m\u001b[1;33m)\u001b[0m\u001b[1;33m\u001b[0m\u001b[1;33m\u001b[0m\u001b[0m\n\u001b[1;32m----> 6\u001b[1;33m     \u001b[1;32mif\u001b[0m \u001b[0mround\u001b[0m\u001b[1;33m(\u001b[0m\u001b[0mlr\u001b[0m\u001b[1;33m.\u001b[0m\u001b[0mscore\u001b[0m\u001b[1;33m(\u001b[0m\u001b[0my_train\u001b[0m\u001b[1;33m,\u001b[0m \u001b[0mpred_train\u001b[0m\u001b[1;33m)\u001b[0m\u001b[1;33m*\u001b[0m\u001b[1;36m100\u001b[0m\u001b[1;33m,\u001b[0m\u001b[1;36m1\u001b[0m\u001b[1;33m)\u001b[0m \u001b[1;33m==\u001b[0m \u001b[0mround\u001b[0m\u001b[1;33m(\u001b[0m\u001b[0mlr\u001b[0m\u001b[1;33m.\u001b[0m\u001b[0mscore\u001b[0m\u001b[1;33m(\u001b[0m\u001b[0my_test\u001b[0m\u001b[1;33m.\u001b[0m\u001b[0mreshape\u001b[0m\u001b[1;33m(\u001b[0m\u001b[1;33m-\u001b[0m\u001b[1;36m1\u001b[0m\u001b[1;33m,\u001b[0m\u001b[1;36m1\u001b[0m\u001b[1;33m)\u001b[0m\u001b[1;33m,\u001b[0m \u001b[0mpred_test\u001b[0m\u001b[1;33m)\u001b[0m\u001b[1;33m*\u001b[0m\u001b[1;36m100\u001b[0m\u001b[1;33m,\u001b[0m\u001b[1;36m1\u001b[0m\u001b[1;33m)\u001b[0m\u001b[1;33m:\u001b[0m\u001b[1;33m\u001b[0m\u001b[1;33m\u001b[0m\u001b[0m\n\u001b[0m\u001b[0;32m      7\u001b[0m         \u001b[0mprint\u001b[0m\u001b[1;33m(\u001b[0m\u001b[1;34m'at state'\u001b[0m\u001b[1;33m,\u001b[0m\u001b[0mi\u001b[0m\u001b[1;33m)\u001b[0m\u001b[1;33m\u001b[0m\u001b[1;33m\u001b[0m\u001b[0m\n\u001b[0;32m      8\u001b[0m         \u001b[0mprint\u001b[0m\u001b[1;33m(\u001b[0m\u001b[1;34m\"at state\"\u001b[0m\u001b[1;33m,\u001b[0m\u001b[0mi\u001b[0m\u001b[1;33m)\u001b[0m\u001b[1;33m\u001b[0m\u001b[1;33m\u001b[0m\u001b[0m\n",
      "\u001b[1;32m~\\Anaconda3\\lib\\site-packages\\sklearn\\base.py\u001b[0m in \u001b[0;36mscore\u001b[1;34m(self, X, y, sample_weight)\u001b[0m\n\u001b[0;32m    551\u001b[0m \u001b[1;33m\u001b[0m\u001b[0m\n\u001b[0;32m    552\u001b[0m         \u001b[1;32mfrom\u001b[0m \u001b[1;33m.\u001b[0m\u001b[0mmetrics\u001b[0m \u001b[1;32mimport\u001b[0m \u001b[0mr2_score\u001b[0m\u001b[1;33m\u001b[0m\u001b[1;33m\u001b[0m\u001b[0m\n\u001b[1;32m--> 553\u001b[1;33m         \u001b[0my_pred\u001b[0m \u001b[1;33m=\u001b[0m \u001b[0mself\u001b[0m\u001b[1;33m.\u001b[0m\u001b[0mpredict\u001b[0m\u001b[1;33m(\u001b[0m\u001b[0mX\u001b[0m\u001b[1;33m)\u001b[0m\u001b[1;33m\u001b[0m\u001b[1;33m\u001b[0m\u001b[0m\n\u001b[0m\u001b[0;32m    554\u001b[0m         \u001b[1;32mreturn\u001b[0m \u001b[0mr2_score\u001b[0m\u001b[1;33m(\u001b[0m\u001b[0my\u001b[0m\u001b[1;33m,\u001b[0m \u001b[0my_pred\u001b[0m\u001b[1;33m,\u001b[0m \u001b[0msample_weight\u001b[0m\u001b[1;33m=\u001b[0m\u001b[0msample_weight\u001b[0m\u001b[1;33m)\u001b[0m\u001b[1;33m\u001b[0m\u001b[1;33m\u001b[0m\u001b[0m\n\u001b[0;32m    555\u001b[0m \u001b[1;33m\u001b[0m\u001b[0m\n",
      "\u001b[1;32m~\\Anaconda3\\lib\\site-packages\\sklearn\\linear_model\\_base.py\u001b[0m in \u001b[0;36mpredict\u001b[1;34m(self, X)\u001b[0m\n\u001b[0;32m    236\u001b[0m             \u001b[0mReturns\u001b[0m \u001b[0mpredicted\u001b[0m \u001b[0mvalues\u001b[0m\u001b[1;33m.\u001b[0m\u001b[1;33m\u001b[0m\u001b[1;33m\u001b[0m\u001b[0m\n\u001b[0;32m    237\u001b[0m         \"\"\"\n\u001b[1;32m--> 238\u001b[1;33m         \u001b[1;32mreturn\u001b[0m \u001b[0mself\u001b[0m\u001b[1;33m.\u001b[0m\u001b[0m_decision_function\u001b[0m\u001b[1;33m(\u001b[0m\u001b[0mX\u001b[0m\u001b[1;33m)\u001b[0m\u001b[1;33m\u001b[0m\u001b[1;33m\u001b[0m\u001b[0m\n\u001b[0m\u001b[0;32m    239\u001b[0m \u001b[1;33m\u001b[0m\u001b[0m\n\u001b[0;32m    240\u001b[0m     \u001b[0m_preprocess_data\u001b[0m \u001b[1;33m=\u001b[0m \u001b[0mstaticmethod\u001b[0m\u001b[1;33m(\u001b[0m\u001b[0m_preprocess_data\u001b[0m\u001b[1;33m)\u001b[0m\u001b[1;33m\u001b[0m\u001b[1;33m\u001b[0m\u001b[0m\n",
      "\u001b[1;32m~\\Anaconda3\\lib\\site-packages\\sklearn\\linear_model\\_base.py\u001b[0m in \u001b[0;36m_decision_function\u001b[1;34m(self, X)\u001b[0m\n\u001b[0;32m    218\u001b[0m         \u001b[0mcheck_is_fitted\u001b[0m\u001b[1;33m(\u001b[0m\u001b[0mself\u001b[0m\u001b[1;33m)\u001b[0m\u001b[1;33m\u001b[0m\u001b[1;33m\u001b[0m\u001b[0m\n\u001b[0;32m    219\u001b[0m \u001b[1;33m\u001b[0m\u001b[0m\n\u001b[1;32m--> 220\u001b[1;33m         \u001b[0mX\u001b[0m \u001b[1;33m=\u001b[0m \u001b[0mcheck_array\u001b[0m\u001b[1;33m(\u001b[0m\u001b[0mX\u001b[0m\u001b[1;33m,\u001b[0m \u001b[0maccept_sparse\u001b[0m\u001b[1;33m=\u001b[0m\u001b[1;33m[\u001b[0m\u001b[1;34m'csr'\u001b[0m\u001b[1;33m,\u001b[0m \u001b[1;34m'csc'\u001b[0m\u001b[1;33m,\u001b[0m \u001b[1;34m'coo'\u001b[0m\u001b[1;33m]\u001b[0m\u001b[1;33m)\u001b[0m\u001b[1;33m\u001b[0m\u001b[1;33m\u001b[0m\u001b[0m\n\u001b[0m\u001b[0;32m    221\u001b[0m         return safe_sparse_dot(X, self.coef_.T,\n\u001b[0;32m    222\u001b[0m                                dense_output=True) + self.intercept_\n",
      "\u001b[1;32m~\\Anaconda3\\lib\\site-packages\\sklearn\\utils\\validation.py\u001b[0m in \u001b[0;36minner_f\u001b[1;34m(*args, **kwargs)\u001b[0m\n\u001b[0;32m     61\u001b[0m             \u001b[0mextra_args\u001b[0m \u001b[1;33m=\u001b[0m \u001b[0mlen\u001b[0m\u001b[1;33m(\u001b[0m\u001b[0margs\u001b[0m\u001b[1;33m)\u001b[0m \u001b[1;33m-\u001b[0m \u001b[0mlen\u001b[0m\u001b[1;33m(\u001b[0m\u001b[0mall_args\u001b[0m\u001b[1;33m)\u001b[0m\u001b[1;33m\u001b[0m\u001b[1;33m\u001b[0m\u001b[0m\n\u001b[0;32m     62\u001b[0m             \u001b[1;32mif\u001b[0m \u001b[0mextra_args\u001b[0m \u001b[1;33m<=\u001b[0m \u001b[1;36m0\u001b[0m\u001b[1;33m:\u001b[0m\u001b[1;33m\u001b[0m\u001b[1;33m\u001b[0m\u001b[0m\n\u001b[1;32m---> 63\u001b[1;33m                 \u001b[1;32mreturn\u001b[0m \u001b[0mf\u001b[0m\u001b[1;33m(\u001b[0m\u001b[1;33m*\u001b[0m\u001b[0margs\u001b[0m\u001b[1;33m,\u001b[0m \u001b[1;33m**\u001b[0m\u001b[0mkwargs\u001b[0m\u001b[1;33m)\u001b[0m\u001b[1;33m\u001b[0m\u001b[1;33m\u001b[0m\u001b[0m\n\u001b[0m\u001b[0;32m     64\u001b[0m \u001b[1;33m\u001b[0m\u001b[0m\n\u001b[0;32m     65\u001b[0m             \u001b[1;31m# extra_args > 0\u001b[0m\u001b[1;33m\u001b[0m\u001b[1;33m\u001b[0m\u001b[0m\n",
      "\u001b[1;32m~\\Anaconda3\\lib\\site-packages\\sklearn\\utils\\validation.py\u001b[0m in \u001b[0;36mcheck_array\u001b[1;34m(array, accept_sparse, accept_large_sparse, dtype, order, copy, force_all_finite, ensure_2d, allow_nd, ensure_min_samples, ensure_min_features, estimator)\u001b[0m\n\u001b[0;32m    692\u001b[0m             \u001b[1;31m# If input is 1D raise error\u001b[0m\u001b[1;33m\u001b[0m\u001b[1;33m\u001b[0m\u001b[0m\n\u001b[0;32m    693\u001b[0m             \u001b[1;32mif\u001b[0m \u001b[0marray\u001b[0m\u001b[1;33m.\u001b[0m\u001b[0mndim\u001b[0m \u001b[1;33m==\u001b[0m \u001b[1;36m1\u001b[0m\u001b[1;33m:\u001b[0m\u001b[1;33m\u001b[0m\u001b[1;33m\u001b[0m\u001b[0m\n\u001b[1;32m--> 694\u001b[1;33m                 raise ValueError(\n\u001b[0m\u001b[0;32m    695\u001b[0m                     \u001b[1;34m\"Expected 2D array, got 1D array instead:\\narray={}.\\n\"\u001b[0m\u001b[1;33m\u001b[0m\u001b[1;33m\u001b[0m\u001b[0m\n\u001b[0;32m    696\u001b[0m                     \u001b[1;34m\"Reshape your data either using array.reshape(-1, 1) if \"\u001b[0m\u001b[1;33m\u001b[0m\u001b[1;33m\u001b[0m\u001b[0m\n",
      "\u001b[1;31mValueError\u001b[0m: Expected 2D array, got 1D array instead:\narray=[14 10 12 ...  7  8 10].\nReshape your data either using array.reshape(-1, 1) if your data has a single feature or array.reshape(1, -1) if it contains a single sample."
     ]
    }
   ],
   "source": [
    "for i in range(0,1000):\n",
    "    x_train, x_test, y_train, y_test = train_test_split(x, y, test_size=0.22, random_state=42)\n",
    "    lr.fit(x_train, y_train)    \n",
    "    pred_train = lr.predict(x_train)\n",
    "    pred_test = lr.predict(x_test)\n",
    "    if round(lr.score(y_train, pred_train)*100,1) == round(lr.score(y_test.reshape(-1,1), pred_test)*100,1):\n",
    "        print('at state',i)\n",
    "        print(\"at state\",i)\n",
    "        print('training r2_score is ', lr.score(y_train,pred_train.reshape(-1,1))*100)\n",
    "        print('testing r2_score is ', lr.score(y_test,pred_test.reshape(-1,1))*100)\n",
    "        "
   ]
  },
  {
   "cell_type": "code",
   "execution_count": 116,
   "id": "97c5854d",
   "metadata": {},
   "outputs": [
    {
     "data": {
      "text/plain": [
       "array([[10.04340076],\n",
       "       [11.16689324],\n",
       "       [ 9.70506218],\n",
       "       ...,\n",
       "       [ 7.55503914],\n",
       "       [ 8.68369709],\n",
       "       [ 8.30415087]])"
      ]
     },
     "execution_count": 116,
     "metadata": {},
     "output_type": "execute_result"
    }
   ],
   "source": [
    "pred_train.reshape(-1,1)"
   ]
  },
  {
   "cell_type": "code",
   "execution_count": 107,
   "id": "2ef7d57b",
   "metadata": {},
   "outputs": [
    {
     "data": {
      "text/plain": [
       "array([ 8.46706753,  9.70117517, 12.15053941, 14.69951294,  6.48861523,\n",
       "        8.60706285,  9.45577709, 11.96231099,  9.696692  ,  7.39962128,\n",
       "        8.83432796, 10.39961326,  7.59511558, 11.51452631,  8.11458204,\n",
       "        7.1057192 , 10.08775916, 10.61564406, 10.21520517,  7.90336848,\n",
       "        7.33067516, 12.25965844, 10.85734019,  9.52224648, 11.96129497,\n",
       "        7.27256424, 10.75202409,  9.78257859,  7.03511123,  7.91770323,\n",
       "        7.08749365, 10.57140889, 11.52527426,  8.81637264, 10.77865745,\n",
       "        7.74649692,  9.76174899,  7.16272874,  7.98921014, 11.24233759,\n",
       "       10.52165791, 10.4540995 , 15.29667635, 10.47885045, 10.14179424,\n",
       "       14.25079919,  8.25209768, 11.92134017, 16.12827417, 10.15513313,\n",
       "        8.7086417 ,  8.72716656, 10.89757843,  7.88896936,  7.26257376,\n",
       "        8.60111842,  9.46971743, 11.7374365 , 11.49900139,  8.04679032,\n",
       "       10.03124499,  9.41448208,  6.42478931,  9.42752132,  6.10315019,\n",
       "        8.00856436, 12.55260233,  9.1098574 ,  6.73643784,  7.52737591,\n",
       "       11.67340212, 15.32807406,  8.73346025,  9.7958442 ,  9.85032811,\n",
       "        7.25470017,  8.42882956, 10.24536862,  8.22272371,  6.86987833,\n",
       "        8.64568531,  6.60490083,  9.81992649,  7.32326672, 10.65603612,\n",
       "        7.63115649, 12.37047983,  8.51499748, 12.56570358,  7.94298011,\n",
       "       12.42614071,  8.07685026, 10.56247096, 11.27798229,  9.40128746,\n",
       "       16.30499491,  7.85940834, 11.44727068,  8.73236993,  8.1886071 ,\n",
       "       11.50737296,  8.48517532,  7.59416841,  7.10621713,  7.12073623,\n",
       "        9.99793354,  8.98288446,  7.44689435,  8.46093972,  8.35144382,\n",
       "        9.05726512, 11.93352697,  7.52344035, 14.7748376 , 11.91053069,\n",
       "        6.73371833,  7.63397147,  9.17024939, 11.3112227 , 10.68622059,\n",
       "       11.42664953,  7.64756701,  8.89340139,  9.27178115, 10.9071977 ,\n",
       "        7.45232375,  8.21270262, 11.84701864,  9.77975987,  9.04664526,\n",
       "       10.50902943, 11.26890938, 11.85868982,  9.35530194, 12.4317654 ,\n",
       "        7.82530811, 10.82973167,  7.50295285, 14.17786434,  7.89285558,\n",
       "        9.03795972,  8.82804659,  8.41105505, 10.23445753, 14.12653065,\n",
       "        6.8899383 ,  8.2308867 , 10.30603613,  7.37005171,  9.73996387,\n",
       "        7.21842244, 12.58670288,  8.27886573,  9.49205207,  8.189168  ,\n",
       "       13.30487949, 12.66426184,  9.77189911, 10.68550035, 10.00045626,\n",
       "        7.78473834,  7.93177447, 10.71831839,  6.3644625 ,  6.69671926,\n",
       "        8.55259991,  9.7260035 ,  9.54813159,  8.17948271,  9.14188877,\n",
       "        9.86432221,  9.24485412,  6.69088822, 10.05686675, 10.43922215,\n",
       "       13.73429055,  9.02736502, 12.04996128,  7.7888093 , 11.05065618,\n",
       "       12.0700304 ,  8.2880616 ,  9.36417152,  7.51224639, 10.36533022,\n",
       "        7.34856098, 10.06128154,  9.9438509 ,  9.97167358,  7.44160977,\n",
       "       11.06451602, 11.93698015,  7.49622191, 11.90312179,  9.88813159,\n",
       "       12.82357422, 12.1669486 ,  9.22639449,  8.38111162, 10.55387689,\n",
       "        7.24141759, 10.77469281,  9.12630139, 14.61701434,  7.4692035 ,\n",
       "       10.2983804 , 13.60312512, 13.686863  ,  7.51189088,  8.71453913,\n",
       "       10.40591738,  9.02445088,  9.07163464,  8.28211794,  6.80667943,\n",
       "        9.83483055,  6.83129462,  9.5303052 ,  9.12952624, 11.33627396,\n",
       "        9.60849969,  7.16965356,  9.87507465,  9.04775335, 11.4637737 ,\n",
       "       10.69997445, 11.2296841 ,  7.09540011, 11.30007631, 11.99341609,\n",
       "       10.33946333, 14.43165329, 11.04211189,  6.33804581, 11.16734842,\n",
       "        8.20672815,  7.59433714,  8.19455426,  8.78519296,  6.8463942 ,\n",
       "       10.68826721, 10.82135388, 10.99560183, 10.00093331,  7.54095786,\n",
       "        9.08137332,  7.37563024,  8.46262314,  9.98061413,  7.91381189,\n",
       "        9.30487734,  7.90239118,  7.05394997,  9.01662891,  8.25078927,\n",
       "        8.61593709,  8.84138132,  7.90473719, 11.684252  , 10.04640469,\n",
       "        9.54642887,  9.17745696, 11.44876526, 12.14799259,  7.76235551,\n",
       "        8.77194367,  7.27541269,  7.10244569,  9.20501481, 10.24497561,\n",
       "        9.16815198, 12.33539839, 15.11397471, 12.11015285,  8.89835626,\n",
       "        9.58730238,  6.51584896, 11.45210424,  6.59265289,  6.11501726,\n",
       "        7.87734458,  9.05122932,  8.0209192 ,  9.9101981 , 13.13707962,\n",
       "       12.24446689,  9.4886682 , 10.5004867 ,  9.01013023, 11.5774053 ,\n",
       "        6.69934414, 12.14379111,  9.60211095, 12.54109384,  8.37496639,\n",
       "       11.83806464, 10.35350459,  8.67801488,  8.51725857, 12.17661716,\n",
       "       11.93574409, 10.10014701, 10.99248654, 10.22559598, 12.63349468,\n",
       "       10.48279594,  8.66361093,  8.38548938, 12.3342234 , 10.69328501,\n",
       "        9.7382029 , 11.850538  , 11.34517748, 11.04631993,  9.81964163,\n",
       "        8.56395781,  9.44717864,  8.96973341, 11.95939773, 10.78273339,\n",
       "       12.25457598,  9.35165319,  7.65682805, 10.52231535,  9.2132329 ,\n",
       "        9.1592753 , 14.13259311, 10.16973042,  8.78347819,  9.32626276,\n",
       "       12.47467186,  9.47276672, 10.78818447, 14.19276146,  8.76620844,\n",
       "       13.83633608, 10.23276695, 12.36670671, 11.01435338,  7.67522769,\n",
       "        9.42573405,  9.4217334 ,  7.18177317, 11.32508787,  9.10863311,\n",
       "        8.95355065,  8.23176023, 10.45184272,  9.60388276, 11.36252825,\n",
       "       11.12641825, 10.20918951, 14.07095953, 14.48113056,  8.32796573,\n",
       "       14.55861288,  8.42802205,  9.52875041, 10.70482413,  8.80943787,\n",
       "        8.2545597 , 11.49184422,  6.67703839,  8.51644801,  9.50532939,\n",
       "       13.6311432 ,  6.95250385,  8.37709365, 13.62548119, 11.5653696 ,\n",
       "        8.26792137,  7.68121803, 11.06906677,  7.59497704,  7.89901793,\n",
       "       12.42918907,  8.55195032,  8.96881603, 11.58044202,  6.76795425,\n",
       "        8.72730172,  8.92294585,  8.01020747, 14.13166535,  8.21993925,\n",
       "       13.38421119, 12.7197429 , 11.37850114, 12.47304762,  9.68420374,\n",
       "        9.06730292,  9.28143037,  8.25634617, 10.20043279,  7.21459291,\n",
       "       11.27445141,  7.94335693,  7.8997518 , 12.6555788 , 11.19054422,\n",
       "       10.45712324,  7.49271895, 12.9630518 ,  9.84891614, 10.19250949,\n",
       "        9.56596097, 12.01519108,  9.40277854, 11.51584643,  8.44764512,\n",
       "        7.47796264, 11.31353699,  8.22588914, 11.8731631 , 10.65867506,\n",
       "       10.94212351,  9.66881128, 11.31055416, 10.98087852, 12.17623625,\n",
       "        7.63580974,  7.46037196,  8.46848234, 14.3269585 , 12.59846896,\n",
       "       11.58240659, 10.58494709,  8.08221781, 10.3333772 ,  6.79062082,\n",
       "       10.49131124,  9.48338124,  6.08025691, 13.49558513, 12.79976825,\n",
       "        6.65098659,  8.65611375,  7.32407009, 13.14191898,  9.58900467,\n",
       "        7.46399075,  9.00775124,  8.16182936, 10.0910515 ,  9.70475857,\n",
       "       11.0971875 ,  6.57713683,  8.00935161,  7.00686363,  9.18120526,\n",
       "       12.66976288,  7.31595456,  8.53423867, 11.42487745,  9.40744885,\n",
       "        7.31041667,  7.89861335,  8.87729066,  9.80661723,  6.54258339,\n",
       "       10.33923064, 13.69955111, 11.08031594, 11.06244032,  9.57826376,\n",
       "       13.04726569, 10.43470055, 12.70996364, 11.35588395, 12.13502199,\n",
       "        8.14828723,  7.92237141,  9.36859065, 10.49724684,  8.876474  ,\n",
       "        7.06582143, 11.02605905,  7.08427612, 10.99925267, 10.82522903,\n",
       "       15.3293864 ,  7.58278209,  8.529303  ,  7.19580196,  7.12422271,\n",
       "       12.50316437,  9.51419642,  9.13286814, 11.36343916,  8.55631189,\n",
       "        9.42795232,  8.08674856,  8.96627819,  8.57281636, 10.98325309,\n",
       "       10.10520858, 10.41829806, 10.99301241,  9.09392792, 11.45677554,\n",
       "       12.23369319,  7.75642311, 10.29648662, 10.56898882, 10.69218766,\n",
       "       11.61983465, 10.22410492,  7.75300322, 10.37127206,  7.91486553,\n",
       "        7.37528729, 10.60848222,  7.92058518, 12.4013791 , 11.58343486,\n",
       "        8.66517197, 12.40966675,  7.82368746, 10.67978188,  8.23057452,\n",
       "        8.7736283 , 12.2955528 , 14.09795203,  8.7858227 , 13.4360944 ,\n",
       "        7.9662169 , 11.33189496, 10.87042567,  9.90974316,  7.31142487,\n",
       "        9.0645734 , 11.47450937,  8.478767  ,  7.25709771,  7.55791759,\n",
       "        9.38210891,  8.53749796, 10.11669161,  9.94979583,  9.35368555,\n",
       "        7.29662631,  8.00882465, 11.64540686, 14.40994729, 10.88957778,\n",
       "        9.54615082, 10.93510354,  8.1648258 , 13.08488973, 12.82831808,\n",
       "        7.33038139,  6.49342123, 10.61256923,  8.77218825,  9.5527867 ,\n",
       "        8.83670369, 13.76561536,  6.7710762 ,  9.29832089, 10.35503063,\n",
       "        6.86031583,  9.48056402,  9.56252878,  7.39765412, 12.28599123,\n",
       "        7.34844902,  8.59302023,  9.63608424, 10.03386002,  9.47502148,\n",
       "        6.6393489 ,  7.81957751,  9.7166705 ,  6.52137711, 10.70638537,\n",
       "        8.06190265, 10.57195265, 13.5752794 ,  8.71010071, 12.98079495,\n",
       "       13.43510182,  9.8219662 ,  7.74023057, 14.00624586,  9.57488096,\n",
       "       10.50890467,  7.75281712, 10.21579892, 10.29775117,  8.62507395,\n",
       "       10.1465249 , 10.23329785,  8.89009366, 11.98748115, 10.96691708,\n",
       "        9.56050552,  9.92932587,  6.89050555, 13.06277034, 12.53774431,\n",
       "        9.30140744, 13.7240878 , 11.44341139, 10.37594906, 10.63035436,\n",
       "       11.42432775, 12.95675809,  9.32685679,  7.39621716,  7.70639462,\n",
       "        7.24761121, 10.37062776, 12.9815394 ,  8.88425342,  9.52418444,\n",
       "       12.11992172, 10.90102317,  6.2697008 , 13.18230818,  8.98323291,\n",
       "       10.11990986,  9.69966798,  9.05681009,  9.40241517, 15.0474017 ,\n",
       "       10.85596974,  8.49826116, 10.24309964, 11.39975711, 10.47010117,\n",
       "        9.3513604 ,  7.93501282,  6.59109474,  9.83607694,  8.66158948,\n",
       "        7.82453037, 13.36041688,  9.30754234,  8.48439672, 12.15422096,\n",
       "        9.44717892,  7.15670268, 10.70372557, 10.1119408 , 15.85824324,\n",
       "       10.61583677, 10.06228714, 10.55023329, 16.75222217, 11.18197582,\n",
       "        8.87581862,  8.65349668, 11.82479214, 10.6293858 , 10.74852573,\n",
       "       12.74159089,  6.49297844, 12.24949058, 11.31622608,  7.03825255,\n",
       "       11.56386106, 13.27719813,  7.47596577,  6.96807199,  8.57322912,\n",
       "       15.74448154, 10.26338541,  8.660193  ,  8.82291586, 10.87120145,\n",
       "       10.45161445,  8.21866359, 11.59535315, 11.71118471,  7.26254507,\n",
       "        7.06968755, 13.17015628, 10.190361  ,  8.96903377,  7.67833571,\n",
       "        9.38668257, 10.18308369,  9.13811809, 12.21757022,  9.29548584,\n",
       "        8.28178616, 12.09992501,  6.94919158,  7.37055228, 12.68963131,\n",
       "        7.10577219,  7.40462674,  8.60197053, 10.66338153,  8.65429917,\n",
       "        9.60500742,  8.43104024,  7.91590555,  9.28140962, 10.54405246,\n",
       "        8.23575865,  9.16804613,  7.11870989,  9.18944809,  8.8472268 ,\n",
       "        9.9553625 ,  7.08421032,  7.33094594, 12.76969483,  8.99664596,\n",
       "       10.52032009, 11.76857149,  8.08522023, 11.85808826,  7.54145015,\n",
       "        9.46838844, 10.33517775, 13.02778989,  9.91995683,  8.33423018,\n",
       "        9.53056739,  7.7993061 ,  7.61146553,  8.52937151, 11.884173  ,\n",
       "        9.39842816,  8.83080215,  8.24002445, 12.10426024, 11.98054943,\n",
       "       11.64926063,  9.55948871,  6.50788904, 10.84316694,  8.71430094,\n",
       "       12.82664995, 11.46016161,  7.89213807,  8.30990349,  8.91579183,\n",
       "       10.73887253, 10.33333742,  9.78115661, 11.57653823,  8.96407479,\n",
       "       13.13974949, 10.06827602,  7.87518949,  9.66024564, 10.11892015,\n",
       "        6.36774137,  9.63666758,  9.01157654, 11.33847035,  6.67850646,\n",
       "       11.28510001, 10.64273046,  7.96140957,  8.41394684, 10.46634983,\n",
       "        9.28238707, 12.58332223, 11.85929786,  9.70916579, 12.33877098,\n",
       "        8.04758553,  9.46860037, 12.73739545,  9.61464436,  7.54640286,\n",
       "        8.99084339,  9.86927864, 10.86090384, 11.51926886, 15.05221359,\n",
       "        8.7584608 ,  9.83516513, 11.505377  , 12.87494363,  8.83307991,\n",
       "       11.719354  ,  7.26661397,  9.31951362,  9.89134574,  8.28858917,\n",
       "        7.18387238,  7.49061019, 14.60409495, 10.16405201,  8.17319124,\n",
       "       13.38456789,  7.98017581, 14.16526682,  8.72002885,  6.99034208,\n",
       "        8.03334913,  9.7472449 , 15.07476283, 11.90788822,  9.52889545,\n",
       "        8.48261798,  9.58050714, 11.03020293,  9.38033768,  6.43359203,\n",
       "       10.18358546,  7.89670039, 10.61026663, 10.85032519,  7.75392222,\n",
       "       10.69317903, 10.46693394,  6.02033087, 10.73164394,  7.16846793,\n",
       "       10.3014789 ,  9.38853909, 10.87230965,  6.19332186,  8.73723879,\n",
       "       12.17471237, 10.455204  ,  9.11763271,  7.67218598, 10.44146536,\n",
       "       10.12124359, 10.85573324,  8.25558354,  9.64388165, 11.74815811,\n",
       "        8.10111137,  8.4896101 ,  9.55439852, 14.58652187, 13.87104667,\n",
       "        7.96566749, 11.36199737, 11.5162188 ,  9.45543251, 11.74644368,\n",
       "       13.03801317, 11.14856385, 11.49927186, 10.74217856,  7.61003508,\n",
       "        8.20595509, 10.63262895, 12.04401457,  8.12040782,  8.44904018,\n",
       "        8.43724285,  9.0408327 ,  8.66680298, 11.18571961, 12.13979224,\n",
       "        9.49364212, 10.49811859, 13.01782484, 11.26928941, 10.00747983,\n",
       "       10.57870636, 12.07954299, 13.25562121, 13.23910446, 11.51854724,\n",
       "        8.88338225,  7.97758486,  7.98257603,  6.78271146,  6.77272933,\n",
       "        8.35233062,  9.73641241,  9.5604113 ,  9.46052286, 11.84362543,\n",
       "        8.11378686,  8.85674331,  8.37213129,  9.09491291,  7.16246347,\n",
       "        8.67414924,  9.50628343,  9.52342431, 11.22987003,  6.67255201,\n",
       "        7.24635201])"
      ]
     },
     "execution_count": 107,
     "metadata": {},
     "output_type": "execute_result"
    }
   ],
   "source": [
    "pred_test"
   ]
  },
  {
   "cell_type": "code",
   "execution_count": null,
   "id": "58a2e51a",
   "metadata": {},
   "outputs": [],
   "source": []
  },
  {
   "cell_type": "code",
   "execution_count": null,
   "id": "33f803da",
   "metadata": {},
   "outputs": [],
   "source": []
  },
  {
   "cell_type": "code",
   "execution_count": 109,
   "id": "ee087de3",
   "metadata": {},
   "outputs": [
    {
     "data": {
      "text/html": [
       "<div>\n",
       "<style scoped>\n",
       "    .dataframe tbody tr th:only-of-type {\n",
       "        vertical-align: middle;\n",
       "    }\n",
       "\n",
       "    .dataframe tbody tr th {\n",
       "        vertical-align: top;\n",
       "    }\n",
       "\n",
       "    .dataframe thead th {\n",
       "        text-align: right;\n",
       "    }\n",
       "</style>\n",
       "<table border=\"1\" class=\"dataframe\">\n",
       "  <thead>\n",
       "    <tr style=\"text-align: right;\">\n",
       "      <th></th>\n",
       "      <th>Length</th>\n",
       "      <th>Diameter</th>\n",
       "      <th>Height</th>\n",
       "      <th>Whole weight</th>\n",
       "      <th>Shucked weight</th>\n",
       "      <th>Viscera weight</th>\n",
       "      <th>Shell weight</th>\n",
       "      <th>le_sex</th>\n",
       "    </tr>\n",
       "  </thead>\n",
       "  <tbody>\n",
       "    <tr>\n",
       "      <th>650</th>\n",
       "      <td>-0.502733</td>\n",
       "      <td>-0.364627</td>\n",
       "      <td>-0.136329</td>\n",
       "      <td>-0.527762</td>\n",
       "      <td>-0.743211</td>\n",
       "      <td>-0.229397</td>\n",
       "      <td>-0.388765</td>\n",
       "      <td>-1.262467</td>\n",
       "    </tr>\n",
       "    <tr>\n",
       "      <th>2673</th>\n",
       "      <td>0.925474</td>\n",
       "      <td>0.903155</td>\n",
       "      <td>0.712966</td>\n",
       "      <td>0.906905</td>\n",
       "      <td>0.869712</td>\n",
       "      <td>1.262366</td>\n",
       "      <td>0.931270</td>\n",
       "      <td>1.178366</td>\n",
       "    </tr>\n",
       "    <tr>\n",
       "      <th>2676</th>\n",
       "      <td>0.985079</td>\n",
       "      <td>0.628068</td>\n",
       "      <td>0.278748</td>\n",
       "      <td>0.773111</td>\n",
       "      <td>0.956356</td>\n",
       "      <td>0.637686</td>\n",
       "      <td>0.687686</td>\n",
       "      <td>1.178366</td>\n",
       "    </tr>\n",
       "    <tr>\n",
       "      <th>1200</th>\n",
       "      <td>-0.582053</td>\n",
       "      <td>-0.654465</td>\n",
       "      <td>1.166215</td>\n",
       "      <td>-0.665959</td>\n",
       "      <td>-0.648880</td>\n",
       "      <td>-0.638841</td>\n",
       "      <td>-0.583021</td>\n",
       "      <td>-0.105052</td>\n",
       "    </tr>\n",
       "    <tr>\n",
       "      <th>3914</th>\n",
       "      <td>0.985079</td>\n",
       "      <td>0.903155</td>\n",
       "      <td>0.278748</td>\n",
       "      <td>0.888793</td>\n",
       "      <td>1.133681</td>\n",
       "      <td>0.844663</td>\n",
       "      <td>0.605349</td>\n",
       "      <td>1.178366</td>\n",
       "    </tr>\n",
       "    <tr>\n",
       "      <th>...</th>\n",
       "      <td>...</td>\n",
       "      <td>...</td>\n",
       "      <td>...</td>\n",
       "      <td>...</td>\n",
       "      <td>...</td>\n",
       "      <td>...</td>\n",
       "      <td>...</td>\n",
       "      <td>...</td>\n",
       "    </tr>\n",
       "    <tr>\n",
       "      <th>1130</th>\n",
       "      <td>1.829039</td>\n",
       "      <td>2.002533</td>\n",
       "      <td>1.321541</td>\n",
       "      <td>1.847776</td>\n",
       "      <td>2.134133</td>\n",
       "      <td>1.688460</td>\n",
       "      <td>1.519257</td>\n",
       "      <td>1.178366</td>\n",
       "    </tr>\n",
       "    <tr>\n",
       "      <th>1294</th>\n",
       "      <td>0.751042</td>\n",
       "      <td>0.763537</td>\n",
       "      <td>0.712966</td>\n",
       "      <td>0.980686</td>\n",
       "      <td>1.319676</td>\n",
       "      <td>0.844663</td>\n",
       "      <td>0.641292</td>\n",
       "      <td>1.178366</td>\n",
       "    </tr>\n",
       "    <tr>\n",
       "      <th>860</th>\n",
       "      <td>-1.016595</td>\n",
       "      <td>-1.081140</td>\n",
       "      <td>-1.274925</td>\n",
       "      <td>-0.992288</td>\n",
       "      <td>-0.941031</td>\n",
       "      <td>-1.004318</td>\n",
       "      <td>-1.042130</td>\n",
       "      <td>-0.105052</td>\n",
       "    </tr>\n",
       "    <tr>\n",
       "      <th>3507</th>\n",
       "      <td>-0.582053</td>\n",
       "      <td>-0.745173</td>\n",
       "      <td>-0.532733</td>\n",
       "      <td>-0.952489</td>\n",
       "      <td>-0.969103</td>\n",
       "      <td>-1.168422</td>\n",
       "      <td>-0.810698</td>\n",
       "      <td>-0.105052</td>\n",
       "    </tr>\n",
       "    <tr>\n",
       "      <th>3174</th>\n",
       "      <td>-1.016595</td>\n",
       "      <td>-1.120288</td>\n",
       "      <td>-0.660979</td>\n",
       "      <td>-1.249174</td>\n",
       "      <td>-1.329896</td>\n",
       "      <td>-1.298238</td>\n",
       "      <td>-1.233476</td>\n",
       "      <td>-0.105052</td>\n",
       "    </tr>\n",
       "  </tbody>\n",
       "</table>\n",
       "<p>3141 rows × 8 columns</p>\n",
       "</div>"
      ],
      "text/plain": [
       "        Length  Diameter    Height  Whole weight  Shucked weight  \\\n",
       "650  -0.502733 -0.364627 -0.136329     -0.527762       -0.743211   \n",
       "2673  0.925474  0.903155  0.712966      0.906905        0.869712   \n",
       "2676  0.985079  0.628068  0.278748      0.773111        0.956356   \n",
       "1200 -0.582053 -0.654465  1.166215     -0.665959       -0.648880   \n",
       "3914  0.985079  0.903155  0.278748      0.888793        1.133681   \n",
       "...        ...       ...       ...           ...             ...   \n",
       "1130  1.829039  2.002533  1.321541      1.847776        2.134133   \n",
       "1294  0.751042  0.763537  0.712966      0.980686        1.319676   \n",
       "860  -1.016595 -1.081140 -1.274925     -0.992288       -0.941031   \n",
       "3507 -0.582053 -0.745173 -0.532733     -0.952489       -0.969103   \n",
       "3174 -1.016595 -1.120288 -0.660979     -1.249174       -1.329896   \n",
       "\n",
       "      Viscera weight  Shell weight    le_sex  \n",
       "650        -0.229397     -0.388765 -1.262467  \n",
       "2673        1.262366      0.931270  1.178366  \n",
       "2676        0.637686      0.687686  1.178366  \n",
       "1200       -0.638841     -0.583021 -0.105052  \n",
       "3914        0.844663      0.605349  1.178366  \n",
       "...              ...           ...       ...  \n",
       "1130        1.688460      1.519257  1.178366  \n",
       "1294        0.844663      0.641292  1.178366  \n",
       "860        -1.004318     -1.042130 -0.105052  \n",
       "3507       -1.168422     -0.810698 -0.105052  \n",
       "3174       -1.298238     -1.233476 -0.105052  \n",
       "\n",
       "[3141 rows x 8 columns]"
      ]
     },
     "execution_count": 109,
     "metadata": {},
     "output_type": "execute_result"
    }
   ],
   "source": [
    "x_train\n"
   ]
  },
  {
   "cell_type": "code",
   "execution_count": 95,
   "id": "53eb2f9a",
   "metadata": {},
   "outputs": [
    {
     "data": {
      "text/plain": [
       "(3141,)"
      ]
     },
     "execution_count": 95,
     "metadata": {},
     "output_type": "execute_result"
    }
   ],
   "source": [
    "pred_train.shape"
   ]
  },
  {
   "cell_type": "code",
   "execution_count": 110,
   "id": "8fe0ec38",
   "metadata": {},
   "outputs": [
    {
     "data": {
      "text/plain": [
       "2514     8\n",
       "855      9\n",
       "2495    12\n",
       "2160    19\n",
       "1060     7\n",
       "        ..\n",
       "2979     8\n",
       "1135     8\n",
       "3759     9\n",
       "1532     5\n",
       "2111     9\n",
       "Name: rings, Length: 886, dtype: int64"
      ]
     },
     "execution_count": 110,
     "metadata": {},
     "output_type": "execute_result"
    }
   ],
   "source": [
    "y_test"
   ]
  },
  {
   "cell_type": "code",
   "execution_count": 111,
   "id": "c64b8e81",
   "metadata": {},
   "outputs": [
    {
     "data": {
      "text/plain": [
       "array([ 8.46706753,  9.70117517, 12.15053941, 14.69951294,  6.48861523,\n",
       "        8.60706285,  9.45577709, 11.96231099,  9.696692  ,  7.39962128,\n",
       "        8.83432796, 10.39961326,  7.59511558, 11.51452631,  8.11458204,\n",
       "        7.1057192 , 10.08775916, 10.61564406, 10.21520517,  7.90336848,\n",
       "        7.33067516, 12.25965844, 10.85734019,  9.52224648, 11.96129497,\n",
       "        7.27256424, 10.75202409,  9.78257859,  7.03511123,  7.91770323,\n",
       "        7.08749365, 10.57140889, 11.52527426,  8.81637264, 10.77865745,\n",
       "        7.74649692,  9.76174899,  7.16272874,  7.98921014, 11.24233759,\n",
       "       10.52165791, 10.4540995 , 15.29667635, 10.47885045, 10.14179424,\n",
       "       14.25079919,  8.25209768, 11.92134017, 16.12827417, 10.15513313,\n",
       "        8.7086417 ,  8.72716656, 10.89757843,  7.88896936,  7.26257376,\n",
       "        8.60111842,  9.46971743, 11.7374365 , 11.49900139,  8.04679032,\n",
       "       10.03124499,  9.41448208,  6.42478931,  9.42752132,  6.10315019,\n",
       "        8.00856436, 12.55260233,  9.1098574 ,  6.73643784,  7.52737591,\n",
       "       11.67340212, 15.32807406,  8.73346025,  9.7958442 ,  9.85032811,\n",
       "        7.25470017,  8.42882956, 10.24536862,  8.22272371,  6.86987833,\n",
       "        8.64568531,  6.60490083,  9.81992649,  7.32326672, 10.65603612,\n",
       "        7.63115649, 12.37047983,  8.51499748, 12.56570358,  7.94298011,\n",
       "       12.42614071,  8.07685026, 10.56247096, 11.27798229,  9.40128746,\n",
       "       16.30499491,  7.85940834, 11.44727068,  8.73236993,  8.1886071 ,\n",
       "       11.50737296,  8.48517532,  7.59416841,  7.10621713,  7.12073623,\n",
       "        9.99793354,  8.98288446,  7.44689435,  8.46093972,  8.35144382,\n",
       "        9.05726512, 11.93352697,  7.52344035, 14.7748376 , 11.91053069,\n",
       "        6.73371833,  7.63397147,  9.17024939, 11.3112227 , 10.68622059,\n",
       "       11.42664953,  7.64756701,  8.89340139,  9.27178115, 10.9071977 ,\n",
       "        7.45232375,  8.21270262, 11.84701864,  9.77975987,  9.04664526,\n",
       "       10.50902943, 11.26890938, 11.85868982,  9.35530194, 12.4317654 ,\n",
       "        7.82530811, 10.82973167,  7.50295285, 14.17786434,  7.89285558,\n",
       "        9.03795972,  8.82804659,  8.41105505, 10.23445753, 14.12653065,\n",
       "        6.8899383 ,  8.2308867 , 10.30603613,  7.37005171,  9.73996387,\n",
       "        7.21842244, 12.58670288,  8.27886573,  9.49205207,  8.189168  ,\n",
       "       13.30487949, 12.66426184,  9.77189911, 10.68550035, 10.00045626,\n",
       "        7.78473834,  7.93177447, 10.71831839,  6.3644625 ,  6.69671926,\n",
       "        8.55259991,  9.7260035 ,  9.54813159,  8.17948271,  9.14188877,\n",
       "        9.86432221,  9.24485412,  6.69088822, 10.05686675, 10.43922215,\n",
       "       13.73429055,  9.02736502, 12.04996128,  7.7888093 , 11.05065618,\n",
       "       12.0700304 ,  8.2880616 ,  9.36417152,  7.51224639, 10.36533022,\n",
       "        7.34856098, 10.06128154,  9.9438509 ,  9.97167358,  7.44160977,\n",
       "       11.06451602, 11.93698015,  7.49622191, 11.90312179,  9.88813159,\n",
       "       12.82357422, 12.1669486 ,  9.22639449,  8.38111162, 10.55387689,\n",
       "        7.24141759, 10.77469281,  9.12630139, 14.61701434,  7.4692035 ,\n",
       "       10.2983804 , 13.60312512, 13.686863  ,  7.51189088,  8.71453913,\n",
       "       10.40591738,  9.02445088,  9.07163464,  8.28211794,  6.80667943,\n",
       "        9.83483055,  6.83129462,  9.5303052 ,  9.12952624, 11.33627396,\n",
       "        9.60849969,  7.16965356,  9.87507465,  9.04775335, 11.4637737 ,\n",
       "       10.69997445, 11.2296841 ,  7.09540011, 11.30007631, 11.99341609,\n",
       "       10.33946333, 14.43165329, 11.04211189,  6.33804581, 11.16734842,\n",
       "        8.20672815,  7.59433714,  8.19455426,  8.78519296,  6.8463942 ,\n",
       "       10.68826721, 10.82135388, 10.99560183, 10.00093331,  7.54095786,\n",
       "        9.08137332,  7.37563024,  8.46262314,  9.98061413,  7.91381189,\n",
       "        9.30487734,  7.90239118,  7.05394997,  9.01662891,  8.25078927,\n",
       "        8.61593709,  8.84138132,  7.90473719, 11.684252  , 10.04640469,\n",
       "        9.54642887,  9.17745696, 11.44876526, 12.14799259,  7.76235551,\n",
       "        8.77194367,  7.27541269,  7.10244569,  9.20501481, 10.24497561,\n",
       "        9.16815198, 12.33539839, 15.11397471, 12.11015285,  8.89835626,\n",
       "        9.58730238,  6.51584896, 11.45210424,  6.59265289,  6.11501726,\n",
       "        7.87734458,  9.05122932,  8.0209192 ,  9.9101981 , 13.13707962,\n",
       "       12.24446689,  9.4886682 , 10.5004867 ,  9.01013023, 11.5774053 ,\n",
       "        6.69934414, 12.14379111,  9.60211095, 12.54109384,  8.37496639,\n",
       "       11.83806464, 10.35350459,  8.67801488,  8.51725857, 12.17661716,\n",
       "       11.93574409, 10.10014701, 10.99248654, 10.22559598, 12.63349468,\n",
       "       10.48279594,  8.66361093,  8.38548938, 12.3342234 , 10.69328501,\n",
       "        9.7382029 , 11.850538  , 11.34517748, 11.04631993,  9.81964163,\n",
       "        8.56395781,  9.44717864,  8.96973341, 11.95939773, 10.78273339,\n",
       "       12.25457598,  9.35165319,  7.65682805, 10.52231535,  9.2132329 ,\n",
       "        9.1592753 , 14.13259311, 10.16973042,  8.78347819,  9.32626276,\n",
       "       12.47467186,  9.47276672, 10.78818447, 14.19276146,  8.76620844,\n",
       "       13.83633608, 10.23276695, 12.36670671, 11.01435338,  7.67522769,\n",
       "        9.42573405,  9.4217334 ,  7.18177317, 11.32508787,  9.10863311,\n",
       "        8.95355065,  8.23176023, 10.45184272,  9.60388276, 11.36252825,\n",
       "       11.12641825, 10.20918951, 14.07095953, 14.48113056,  8.32796573,\n",
       "       14.55861288,  8.42802205,  9.52875041, 10.70482413,  8.80943787,\n",
       "        8.2545597 , 11.49184422,  6.67703839,  8.51644801,  9.50532939,\n",
       "       13.6311432 ,  6.95250385,  8.37709365, 13.62548119, 11.5653696 ,\n",
       "        8.26792137,  7.68121803, 11.06906677,  7.59497704,  7.89901793,\n",
       "       12.42918907,  8.55195032,  8.96881603, 11.58044202,  6.76795425,\n",
       "        8.72730172,  8.92294585,  8.01020747, 14.13166535,  8.21993925,\n",
       "       13.38421119, 12.7197429 , 11.37850114, 12.47304762,  9.68420374,\n",
       "        9.06730292,  9.28143037,  8.25634617, 10.20043279,  7.21459291,\n",
       "       11.27445141,  7.94335693,  7.8997518 , 12.6555788 , 11.19054422,\n",
       "       10.45712324,  7.49271895, 12.9630518 ,  9.84891614, 10.19250949,\n",
       "        9.56596097, 12.01519108,  9.40277854, 11.51584643,  8.44764512,\n",
       "        7.47796264, 11.31353699,  8.22588914, 11.8731631 , 10.65867506,\n",
       "       10.94212351,  9.66881128, 11.31055416, 10.98087852, 12.17623625,\n",
       "        7.63580974,  7.46037196,  8.46848234, 14.3269585 , 12.59846896,\n",
       "       11.58240659, 10.58494709,  8.08221781, 10.3333772 ,  6.79062082,\n",
       "       10.49131124,  9.48338124,  6.08025691, 13.49558513, 12.79976825,\n",
       "        6.65098659,  8.65611375,  7.32407009, 13.14191898,  9.58900467,\n",
       "        7.46399075,  9.00775124,  8.16182936, 10.0910515 ,  9.70475857,\n",
       "       11.0971875 ,  6.57713683,  8.00935161,  7.00686363,  9.18120526,\n",
       "       12.66976288,  7.31595456,  8.53423867, 11.42487745,  9.40744885,\n",
       "        7.31041667,  7.89861335,  8.87729066,  9.80661723,  6.54258339,\n",
       "       10.33923064, 13.69955111, 11.08031594, 11.06244032,  9.57826376,\n",
       "       13.04726569, 10.43470055, 12.70996364, 11.35588395, 12.13502199,\n",
       "        8.14828723,  7.92237141,  9.36859065, 10.49724684,  8.876474  ,\n",
       "        7.06582143, 11.02605905,  7.08427612, 10.99925267, 10.82522903,\n",
       "       15.3293864 ,  7.58278209,  8.529303  ,  7.19580196,  7.12422271,\n",
       "       12.50316437,  9.51419642,  9.13286814, 11.36343916,  8.55631189,\n",
       "        9.42795232,  8.08674856,  8.96627819,  8.57281636, 10.98325309,\n",
       "       10.10520858, 10.41829806, 10.99301241,  9.09392792, 11.45677554,\n",
       "       12.23369319,  7.75642311, 10.29648662, 10.56898882, 10.69218766,\n",
       "       11.61983465, 10.22410492,  7.75300322, 10.37127206,  7.91486553,\n",
       "        7.37528729, 10.60848222,  7.92058518, 12.4013791 , 11.58343486,\n",
       "        8.66517197, 12.40966675,  7.82368746, 10.67978188,  8.23057452,\n",
       "        8.7736283 , 12.2955528 , 14.09795203,  8.7858227 , 13.4360944 ,\n",
       "        7.9662169 , 11.33189496, 10.87042567,  9.90974316,  7.31142487,\n",
       "        9.0645734 , 11.47450937,  8.478767  ,  7.25709771,  7.55791759,\n",
       "        9.38210891,  8.53749796, 10.11669161,  9.94979583,  9.35368555,\n",
       "        7.29662631,  8.00882465, 11.64540686, 14.40994729, 10.88957778,\n",
       "        9.54615082, 10.93510354,  8.1648258 , 13.08488973, 12.82831808,\n",
       "        7.33038139,  6.49342123, 10.61256923,  8.77218825,  9.5527867 ,\n",
       "        8.83670369, 13.76561536,  6.7710762 ,  9.29832089, 10.35503063,\n",
       "        6.86031583,  9.48056402,  9.56252878,  7.39765412, 12.28599123,\n",
       "        7.34844902,  8.59302023,  9.63608424, 10.03386002,  9.47502148,\n",
       "        6.6393489 ,  7.81957751,  9.7166705 ,  6.52137711, 10.70638537,\n",
       "        8.06190265, 10.57195265, 13.5752794 ,  8.71010071, 12.98079495,\n",
       "       13.43510182,  9.8219662 ,  7.74023057, 14.00624586,  9.57488096,\n",
       "       10.50890467,  7.75281712, 10.21579892, 10.29775117,  8.62507395,\n",
       "       10.1465249 , 10.23329785,  8.89009366, 11.98748115, 10.96691708,\n",
       "        9.56050552,  9.92932587,  6.89050555, 13.06277034, 12.53774431,\n",
       "        9.30140744, 13.7240878 , 11.44341139, 10.37594906, 10.63035436,\n",
       "       11.42432775, 12.95675809,  9.32685679,  7.39621716,  7.70639462,\n",
       "        7.24761121, 10.37062776, 12.9815394 ,  8.88425342,  9.52418444,\n",
       "       12.11992172, 10.90102317,  6.2697008 , 13.18230818,  8.98323291,\n",
       "       10.11990986,  9.69966798,  9.05681009,  9.40241517, 15.0474017 ,\n",
       "       10.85596974,  8.49826116, 10.24309964, 11.39975711, 10.47010117,\n",
       "        9.3513604 ,  7.93501282,  6.59109474,  9.83607694,  8.66158948,\n",
       "        7.82453037, 13.36041688,  9.30754234,  8.48439672, 12.15422096,\n",
       "        9.44717892,  7.15670268, 10.70372557, 10.1119408 , 15.85824324,\n",
       "       10.61583677, 10.06228714, 10.55023329, 16.75222217, 11.18197582,\n",
       "        8.87581862,  8.65349668, 11.82479214, 10.6293858 , 10.74852573,\n",
       "       12.74159089,  6.49297844, 12.24949058, 11.31622608,  7.03825255,\n",
       "       11.56386106, 13.27719813,  7.47596577,  6.96807199,  8.57322912,\n",
       "       15.74448154, 10.26338541,  8.660193  ,  8.82291586, 10.87120145,\n",
       "       10.45161445,  8.21866359, 11.59535315, 11.71118471,  7.26254507,\n",
       "        7.06968755, 13.17015628, 10.190361  ,  8.96903377,  7.67833571,\n",
       "        9.38668257, 10.18308369,  9.13811809, 12.21757022,  9.29548584,\n",
       "        8.28178616, 12.09992501,  6.94919158,  7.37055228, 12.68963131,\n",
       "        7.10577219,  7.40462674,  8.60197053, 10.66338153,  8.65429917,\n",
       "        9.60500742,  8.43104024,  7.91590555,  9.28140962, 10.54405246,\n",
       "        8.23575865,  9.16804613,  7.11870989,  9.18944809,  8.8472268 ,\n",
       "        9.9553625 ,  7.08421032,  7.33094594, 12.76969483,  8.99664596,\n",
       "       10.52032009, 11.76857149,  8.08522023, 11.85808826,  7.54145015,\n",
       "        9.46838844, 10.33517775, 13.02778989,  9.91995683,  8.33423018,\n",
       "        9.53056739,  7.7993061 ,  7.61146553,  8.52937151, 11.884173  ,\n",
       "        9.39842816,  8.83080215,  8.24002445, 12.10426024, 11.98054943,\n",
       "       11.64926063,  9.55948871,  6.50788904, 10.84316694,  8.71430094,\n",
       "       12.82664995, 11.46016161,  7.89213807,  8.30990349,  8.91579183,\n",
       "       10.73887253, 10.33333742,  9.78115661, 11.57653823,  8.96407479,\n",
       "       13.13974949, 10.06827602,  7.87518949,  9.66024564, 10.11892015,\n",
       "        6.36774137,  9.63666758,  9.01157654, 11.33847035,  6.67850646,\n",
       "       11.28510001, 10.64273046,  7.96140957,  8.41394684, 10.46634983,\n",
       "        9.28238707, 12.58332223, 11.85929786,  9.70916579, 12.33877098,\n",
       "        8.04758553,  9.46860037, 12.73739545,  9.61464436,  7.54640286,\n",
       "        8.99084339,  9.86927864, 10.86090384, 11.51926886, 15.05221359,\n",
       "        8.7584608 ,  9.83516513, 11.505377  , 12.87494363,  8.83307991,\n",
       "       11.719354  ,  7.26661397,  9.31951362,  9.89134574,  8.28858917,\n",
       "        7.18387238,  7.49061019, 14.60409495, 10.16405201,  8.17319124,\n",
       "       13.38456789,  7.98017581, 14.16526682,  8.72002885,  6.99034208,\n",
       "        8.03334913,  9.7472449 , 15.07476283, 11.90788822,  9.52889545,\n",
       "        8.48261798,  9.58050714, 11.03020293,  9.38033768,  6.43359203,\n",
       "       10.18358546,  7.89670039, 10.61026663, 10.85032519,  7.75392222,\n",
       "       10.69317903, 10.46693394,  6.02033087, 10.73164394,  7.16846793,\n",
       "       10.3014789 ,  9.38853909, 10.87230965,  6.19332186,  8.73723879,\n",
       "       12.17471237, 10.455204  ,  9.11763271,  7.67218598, 10.44146536,\n",
       "       10.12124359, 10.85573324,  8.25558354,  9.64388165, 11.74815811,\n",
       "        8.10111137,  8.4896101 ,  9.55439852, 14.58652187, 13.87104667,\n",
       "        7.96566749, 11.36199737, 11.5162188 ,  9.45543251, 11.74644368,\n",
       "       13.03801317, 11.14856385, 11.49927186, 10.74217856,  7.61003508,\n",
       "        8.20595509, 10.63262895, 12.04401457,  8.12040782,  8.44904018,\n",
       "        8.43724285,  9.0408327 ,  8.66680298, 11.18571961, 12.13979224,\n",
       "        9.49364212, 10.49811859, 13.01782484, 11.26928941, 10.00747983,\n",
       "       10.57870636, 12.07954299, 13.25562121, 13.23910446, 11.51854724,\n",
       "        8.88338225,  7.97758486,  7.98257603,  6.78271146,  6.77272933,\n",
       "        8.35233062,  9.73641241,  9.5604113 ,  9.46052286, 11.84362543,\n",
       "        8.11378686,  8.85674331,  8.37213129,  9.09491291,  7.16246347,\n",
       "        8.67414924,  9.50628343,  9.52342431, 11.22987003,  6.67255201,\n",
       "        7.24635201])"
      ]
     },
     "execution_count": 111,
     "metadata": {},
     "output_type": "execute_result"
    }
   ],
   "source": [
    "pred_test"
   ]
  },
  {
   "cell_type": "code",
   "execution_count": null,
   "id": "a5327540",
   "metadata": {},
   "outputs": [],
   "source": []
  },
  {
   "cell_type": "code",
   "execution_count": null,
   "id": "4e1d46a3",
   "metadata": {},
   "outputs": [],
   "source": []
  },
  {
   "cell_type": "code",
   "execution_count": null,
   "id": "c00b070f",
   "metadata": {},
   "outputs": [],
   "source": []
  },
  {
   "cell_type": "code",
   "execution_count": null,
   "id": "7e225be1",
   "metadata": {},
   "outputs": [],
   "source": []
  },
  {
   "cell_type": "code",
   "execution_count": null,
   "id": "997ee1be",
   "metadata": {},
   "outputs": [],
   "source": []
  },
  {
   "cell_type": "code",
   "execution_count": null,
   "id": "c7bb1507",
   "metadata": {},
   "outputs": [],
   "source": []
  },
  {
   "cell_type": "code",
   "execution_count": null,
   "id": "b833e864",
   "metadata": {},
   "outputs": [],
   "source": []
  },
  {
   "cell_type": "code",
   "execution_count": null,
   "id": "ef90136d",
   "metadata": {},
   "outputs": [],
   "source": []
  },
  {
   "cell_type": "code",
   "execution_count": null,
   "id": "f298a44c",
   "metadata": {},
   "outputs": [],
   "source": []
  },
  {
   "cell_type": "code",
   "execution_count": null,
   "id": "24ad66d0",
   "metadata": {},
   "outputs": [],
   "source": []
  },
  {
   "cell_type": "code",
   "execution_count": null,
   "id": "016b1a84",
   "metadata": {},
   "outputs": [],
   "source": []
  }
 ],
 "metadata": {
  "kernelspec": {
   "display_name": "Python 3 (ipykernel)",
   "language": "python",
   "name": "python3"
  },
  "language_info": {
   "codemirror_mode": {
    "name": "ipython",
    "version": 3
   },
   "file_extension": ".py",
   "mimetype": "text/x-python",
   "name": "python",
   "nbconvert_exporter": "python",
   "pygments_lexer": "ipython3",
   "version": "3.9.7"
  }
 },
 "nbformat": 4,
 "nbformat_minor": 5
}
